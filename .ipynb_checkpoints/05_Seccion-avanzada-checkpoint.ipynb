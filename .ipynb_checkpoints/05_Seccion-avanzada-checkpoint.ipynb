{
 "cells": [
  {
   "cell_type": "markdown",
   "id": "03242e94-04a5-4a8d-b4fc-83ad85ddcd68",
   "metadata": {},
   "source": [
    "# SECCION AVANZADA"
   ]
  },
  {
   "cell_type": "markdown",
   "id": "38ca8939-f559-4836-a2cc-28367b3c6ed7",
   "metadata": {},
   "source": [
    "## 1.Excepciones\n",
    "\n",
    "Las excepciones en Python son eventos que ocurren durante la ejecución de un programa y que interrumpen su flujo normal si no son manejadas."
   ]
  },
  {
   "cell_type": "markdown",
   "id": "4c9f7bce-6c86-4db9-9db5-e95b65fc4419",
   "metadata": {},
   "source": [
    "### **a) Cómo funcionan las excepciones**\n",
    "\n",
    "Cuando ocurre un error, Python genera un objeto un objeto excepción. Si este objeto no es manejado, el programa termina y muestra un mensaje de error o traceback."
   ]
  },
  {
   "cell_type": "code",
   "execution_count": 2,
   "id": "7b1a2c93-b5f1-4e8e-b477-c483d413e8a0",
   "metadata": {},
   "outputs": [
    {
     "ename": "ValueError",
     "evalue": "invalid literal for int() with base 10: 'texto'",
     "output_type": "error",
     "traceback": [
      "\u001b[0;31m---------------------------------------------------------------------------\u001b[0m",
      "\u001b[0;31mValueError\u001b[0m                                Traceback (most recent call last)",
      "Cell \u001b[0;32mIn[2], line 1\u001b[0m\n\u001b[0;32m----> 1\u001b[0m numero \u001b[38;5;241m=\u001b[39m \u001b[38;5;28;43mint\u001b[39;49m\u001b[43m(\u001b[49m\u001b[38;5;124;43m\"\u001b[39;49m\u001b[38;5;124;43mtexto\u001b[39;49m\u001b[38;5;124;43m\"\u001b[39;49m\u001b[43m)\u001b[49m\n",
      "\u001b[0;31mValueError\u001b[0m: invalid literal for int() with base 10: 'texto'"
     ]
    }
   ],
   "source": [
    "numero = int(\"texto\")"
   ]
  },
  {
   "cell_type": "markdown",
   "id": "fb557acb-9ee0-44c2-91f8-abd7c5e062ea",
   "metadata": {},
   "source": [
    "### **b) Manejo de exepciones**\n",
    "\n",
    "El bloque ***try*** contiene el código que puede generar una excepción, y el bloque ***except*** define cómo manejar el error."
   ]
  },
  {
   "cell_type": "code",
   "execution_count": 4,
   "id": "fd577339-0e9a-4fb3-a5e0-ee6fc0a1af3a",
   "metadata": {},
   "outputs": [
    {
     "name": "stdout",
     "output_type": "stream",
     "text": [
      "ERROR: EL texto no se puede convertir a número.\n"
     ]
    }
   ],
   "source": [
    "try:\n",
    "    numero = int(\"Texto\")\n",
    "except:\n",
    "    print(\"ERROR: EL texto no se puede convertir a número.\")"
   ]
  },
  {
   "cell_type": "code",
   "execution_count": 8,
   "id": "825acf3b-2056-4cc5-8a20-e67ac2c7206d",
   "metadata": {},
   "outputs": [
    {
     "name": "stdin",
     "output_type": "stream",
     "text": [
      "Ingrese un número:  5\n"
     ]
    },
    {
     "name": "stdout",
     "output_type": "stream",
     "text": [
      "2.0\n"
     ]
    }
   ],
   "source": [
    "# Multiples excepciones\n",
    "\n",
    "try:\n",
    "    numero = int(input(\"Ingrese un número: \"))\n",
    "    resultado = 10 / numero\n",
    "    print(resultado)\n",
    "except ValueError:\n",
    "    print(\"Debes introducir un número válido.\")\n",
    "except ZeroDivsionError:\n",
    "    print(\"No puedes dividir entre cero.\")"
   ]
  },
  {
   "cell_type": "markdown",
   "id": "bb524ffa-b1e2-4c26-92bd-8c35f43e2513",
   "metadata": {},
   "source": [
    "### **c) Bloques ***else*** y ***finally***.**\n",
    "\n",
    "* **else:** Se ejecuta si no se genera ninguna execepción.\n",
    "* **finally:** Se ejecuta siempre, independientemente de si ocurre o no una excepción."
   ]
  },
  {
   "cell_type": "code",
   "execution_count": 1,
   "id": "9c78af63-4f3e-4c29-a10f-fbd8d848eae4",
   "metadata": {},
   "outputs": [
    {
     "name": "stdin",
     "output_type": "stream",
     "text": [
      "Ingresa un número:  5\n"
     ]
    },
    {
     "name": "stdout",
     "output_type": "stream",
     "text": [
      "Resultado: 2.0\n",
      "Gracias por usar el programa.\n"
     ]
    }
   ],
   "source": [
    "try:\n",
    "    numero = int(input('Ingresa un número: '))\n",
    "    resultado = 10 / numero\n",
    "except ZeroDivisionError:\n",
    "    print(\"No se puede dividir entre cero\")\n",
    "except ValueError:\n",
    "    print(\"Debes introducir un número válido.\")\n",
    "else:\n",
    "    print(f\"Resultado: {resultado}\")\n",
    "finally:\n",
    "    print('Gracias por usar el programa.')"
   ]
  },
  {
   "cell_type": "markdown",
   "id": "09d98895-a700-41eb-af96-98ca1b72f581",
   "metadata": {},
   "source": [
    "### **d) Levantar excepciones (Raise)**\n",
    "\n",
    "Generar nuestras propias exepciones usando la palabra clave ***raise***."
   ]
  },
  {
   "cell_type": "code",
   "execution_count": 2,
   "id": "64cf6f8d-577e-42c5-a5d8-3d9f9d8ccca6",
   "metadata": {},
   "outputs": [
    {
     "name": "stdout",
     "output_type": "stream",
     "text": [
      "Error: El denominador no puede ser Cero.\n"
     ]
    }
   ],
   "source": [
    "def dividir(a, b):\n",
    "    if b == 0:\n",
    "        raise ValueError(\"El denominador no puede ser Cero.\")\n",
    "    return a / b\n",
    "\n",
    "try:\n",
    "    print(dividir(10, 0))\n",
    "except ValueError as e:\n",
    "    print(f'Error: {e}')\n"
   ]
  },
  {
   "cell_type": "markdown",
   "id": "d5f9a6bf-1b0b-4aad-b1cc-e8b1fc86f251",
   "metadata": {},
   "source": [
    "### **e) Crear excepciones personalizadas**\n",
    "\n",
    "Para definir nuestras propias excepciones heredado de la clase **Exception**."
   ]
  },
  {
   "cell_type": "code",
   "execution_count": 3,
   "id": "37737f27-1fb8-4526-ba44-fe4ab2bf0af1",
   "metadata": {},
   "outputs": [
    {
     "name": "stdout",
     "output_type": "stream",
     "text": [
      "Error personalizado: Este es un error personalizado.\n"
     ]
    }
   ],
   "source": [
    "class MiException(Exception):\n",
    "    pass\n",
    "\n",
    "try:\n",
    "    raise MiException(\"Este es un error personalizado.\")\n",
    "except MiException as e:\n",
    "    print(f\"Error personalizado: {e}\")"
   ]
  },
  {
   "cell_type": "markdown",
   "id": "a567210f-8aac-44d0-ac6a-52e044728ad8",
   "metadata": {},
   "source": [
    "## 2. Expresiones regulares.\n",
    "\n",
    "Las expresiones regulares (regex) en Python son patrones utilizados para buscar, coincidir y manipular cadenas de texto. La librería **re** proporciona funciones y herramientas para trabajar con expresiones regulares de manera eficiente.\n",
    "\n",
    "**¿Qué es una expresión regular?**\n",
    "\n",
    "Una expresión regular es una secuencia de caracteres que define un patrón de búsqueda en texto. Son útiles para validar formatos, extraer información o realizar búsquedas avanzadas."
   ]
  },
  {
   "cell_type": "markdown",
   "id": "92b95b00-7a2a-4589-ab92-25af73fda65a",
   "metadata": {},
   "source": [
    "### Metacaracteres principales\n",
    "\n",
    "Los metacaracteres son símbolos especiales que definen patrones en regex:\n",
    "\n",
    "| Metacaracter | Descripción                          | Ejemplo                   |\n",
    "|--------------|--------------------------------------|---------------------------|\n",
    "| `.`          | Cualquier carácter excepto nueva línea | `h.t` => \"hat\", \"hot\"    |\n",
    "| `^`          | Inicio de la cadena                 | `^Hola` => \"Hola...\"      |\n",
    "| `$`          | Final de la cadena                  | `mundo$` => \"...mundo\"    |\n",
    "| `*`          | 0 o más repeticiones                | `a*` => \"\", \"a\", \"aaa\"    |\n",
    "| `+`          | 1 o más repeticiones                | `a+` => \"a\", \"aaa\"        |\n",
    "| `?`          | 0 o 1 repetición                    | `ab?` => \"a\", \"ab\"        |\n",
    "| `{n}`        | Exactamente n repeticiones          | `a{3}` => \"aaa\"           |\n",
    "| `{n,}`       | Al menos n repeticiones             | `a{2,}` => \"aa\", \"aaa\"    |\n",
    "| `{n,m}`      | Entre n y m repeticiones            | `a{1,3}` => \"a\", \"aa\"     |\n",
    "| `[]`         | Conjunto de caracteres              | `[aeiou]` => vocales      |\n",
    "| `|`          | Alternativa (OR)                   | `a|b` => \"a\", \"b\"         |\n",
    "| `()`         | Agrupación                          | `(abc)+` => \"abcabc\"      |\n",
    "| `\\`          | Escapa caracteres especiales        | `\\.` => \".\"               |\n"
   ]
  },
  {
   "cell_type": "markdown",
   "id": "fe79d860-9c74-424b-90bd-022be397de23",
   "metadata": {},
   "source": [
    "### Secuencias especiales en regex\n",
    "\n",
    "| Secuencia | Descripción                                   | Ejemplo              |\n",
    "|-----------|-----------------------------------------------|----------------------|\n",
    "| `\\d`      | Cualquier dígito (0-9)                       | `\\d+` => \"123\", \"456\"|\n",
    "| `\\D`      | Cualquier carácter que no sea un dígito      | `\\D+` => \"abc\", \"def\"|\n",
    "| `\\w`      | Cualquier carácter alfanumérico              | `\\w+` => \"abc123\"    |\n",
    "| `\\W`      | Cualquier carácter no alfanumérico           | `\\W+` => \" ,;!\"      |\n",
    "| `\\s`      | Cualquier espacio en blanco (tab, salto, etc)| `\\s+` => \" \"         |\n",
    "| `\\S`      | Cualquier carácter que no sea un espacio     | `\\S+` => \"abc\", \"123\"|\n"
   ]
  },
  {
   "cell_type": "code",
   "execution_count": 9,
   "id": "4c7b038a-f315-4180-8e8a-947e83ee7556",
   "metadata": {},
   "outputs": [
    {
     "name": "stdout",
     "output_type": "stream",
     "text": [
      "123-456-7890\n"
     ]
    }
   ],
   "source": [
    "import re\n",
    "\n",
    "texto = \"Hola, mi número es 123-456-7890\"\n",
    "patron = r\"\\d{3}-\\d{3}-\\d{4}\"  \n",
    "resultado = re.search(patron, texto)\n",
    "print(resultado.group())  "
   ]
  },
  {
   "cell_type": "markdown",
   "id": "0a06dc6d-480e-4a1d-b356-2a0d7767dab7",
   "metadata": {},
   "source": [
    "### **a) Funciones principales del módulo ***re***.**"
   ]
  },
  {
   "cell_type": "markdown",
   "id": "cb7db9f6-7568-4022-9241-7e1bcc0f7d5d",
   "metadata": {},
   "source": [
    "1. **re.search()**: Busca la primera ocurrecia del patrón en la cadena."
   ]
  },
  {
   "cell_type": "code",
   "execution_count": 10,
   "id": "3d4ea72e-abc4-47b8-b02c-021dab871a3c",
   "metadata": {},
   "outputs": [
    {
     "name": "stdout",
     "output_type": "stream",
     "text": [
      "ivanmora412@gmail.com\n"
     ]
    }
   ],
   "source": [
    "import re\n",
    "\n",
    "texto = \"El correo es ivanmora412@gmail.com\"\n",
    "patron = r\"\\b\\w+@\\w+\\.\\w+\\b\"\n",
    "resultado = re.search(patron, texto)\n",
    "\n",
    "if resultado:\n",
    "    print(resultado.group())"
   ]
  },
  {
   "cell_type": "markdown",
   "id": "20799948-4f27-4058-a92a-48fabce3c55d",
   "metadata": {},
   "source": [
    "2. **re.match():** Verifica si el patrón coincide al inicio de la cadena."
   ]
  },
  {
   "cell_type": "code",
   "execution_count": 13,
   "id": "932bcfb4-1d4f-4fed-8092-678bab2e81cf",
   "metadata": {},
   "outputs": [
    {
     "name": "stdout",
     "output_type": "stream",
     "text": [
      "Coincide\n"
     ]
    }
   ],
   "source": [
    "import re\n",
    "\n",
    "texto = \"Python es genial\"\n",
    "patron = r\"Python\"\n",
    "resultado = re.match(patron, texto)\n",
    "\n",
    "if resultado:\n",
    "    print(\"Coincide\")"
   ]
  },
  {
   "cell_type": "markdown",
   "id": "b2291e13-86b9-4e5b-8362-f51652b23a5a",
   "metadata": {},
   "source": [
    "3. **re.findall():** Devuelve una lista con todas las coincidencias en la cadena."
   ]
  },
  {
   "cell_type": "code",
   "execution_count": 14,
   "id": "408a843e-b306-453c-abc0-78d761f097fc",
   "metadata": {},
   "outputs": [
    {
     "name": "stdout",
     "output_type": "stream",
     "text": [
      "['123', '456', '789']\n"
     ]
    }
   ],
   "source": [
    "import re \n",
    "\n",
    "texto = \"abc 123 def 456 ghi 789\"\n",
    "patron = r\"\\d+\"\n",
    "\n",
    "resultado = re.findall(patron, texto)\n",
    "\n",
    "print(resultado)"
   ]
  },
  {
   "cell_type": "markdown",
   "id": "8fc16d7b-61cd-4444-8889-7a520d44abf0",
   "metadata": {},
   "source": [
    "4. **re.split():** Divide una cadena usando un patrón como delimitador."
   ]
  },
  {
   "cell_type": "code",
   "execution_count": 16,
   "id": "d966e52d-c164-4c8f-821c-282fc536e584",
   "metadata": {},
   "outputs": [
    {
     "name": "stdout",
     "output_type": "stream",
     "text": [
      "['uno', 'dos', ';tres', 'cuatro']\n"
     ]
    }
   ],
   "source": [
    "import re \n",
    "\n",
    "texto = \"uno,dos,;tres|cuatro\"\n",
    "patron = r\"[,:|]\"\n",
    "\n",
    "resultado = re.split(patron, texto)\n",
    "\n",
    "print(resultado)"
   ]
  },
  {
   "cell_type": "markdown",
   "id": "01904439-9bd6-4452-b454-aa35ec9baf97",
   "metadata": {},
   "source": [
    "5. **re.sub():** Reemplaza las coincidencias de un patrón con otra cadena."
   ]
  },
  {
   "cell_type": "code",
   "execution_count": 17,
   "id": "6f97a212-c6ea-49a9-8fd1-84a0f7d6e70c",
   "metadata": {},
   "outputs": [
    {
     "name": "stdout",
     "output_type": "stream",
     "text": [
      "color: blanco, color: blanco, color: blanco\n"
     ]
    }
   ],
   "source": [
    "import re \n",
    "\n",
    "texto = \"color: rojo, color: azul, color: verde\"\n",
    "patron = r\"color: (\\w+)\"\n",
    "\n",
    "resultado = re.sub(patron, r\"color: blanco\", texto)\n",
    "\n",
    "print(resultado)"
   ]
  },
  {
   "cell_type": "markdown",
   "id": "df7c99f8-3ab4-4a71-9191-5eefafd080ae",
   "metadata": {},
   "source": [
    "6. **re.compile():** Crea un objeto de patrón reutilizable para búsquedas frecuentes."
   ]
  },
  {
   "cell_type": "code",
   "execution_count": 18,
   "id": "a34ae4f5-89ad-42f0-a29b-bc2dbacbf771",
   "metadata": {},
   "outputs": [
    {
     "name": "stdout",
     "output_type": "stream",
     "text": [
      "['123', '456', '789']\n"
     ]
    }
   ],
   "source": [
    "import re\n",
    "\n",
    "patron = re.compile(r\"\\d+\")\n",
    "texto = \"abc 123 def 456 ghi 789\" \n",
    "\n",
    "resultado = patron.findall(texto)\n",
    "\n",
    "print(resultado)"
   ]
  },
  {
   "cell_type": "code",
   "execution_count": null,
   "id": "7a4045d3-d511-46dd-a045-b34e7170b114",
   "metadata": {},
   "outputs": [],
   "source": []
  }
 ],
 "metadata": {
  "kernelspec": {
   "display_name": "Python 3 (ipykernel)",
   "language": "python",
   "name": "python3"
  },
  "language_info": {
   "codemirror_mode": {
    "name": "ipython",
    "version": 3
   },
   "file_extension": ".py",
   "mimetype": "text/x-python",
   "name": "python",
   "nbconvert_exporter": "python",
   "pygments_lexer": "ipython3",
   "version": "3.9.20"
  }
 },
 "nbformat": 4,
 "nbformat_minor": 5
}
