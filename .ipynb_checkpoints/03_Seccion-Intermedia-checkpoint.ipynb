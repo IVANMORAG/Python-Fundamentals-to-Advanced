{
 "cells": [
  {
   "cell_type": "markdown",
   "id": "cc9999d2-ae95-4ebe-b3ab-f95e9367e9eb",
   "metadata": {},
   "source": [
    "# SECCION INTERMEDIA"
   ]
  },
  {
   "cell_type": "markdown",
   "id": "cb1b0704-7a64-4f39-bbcc-6894d4d01577",
   "metadata": {},
   "source": [
    "## 1. DESEMPAQUETADO DE LISTAS O TUPLAS\n",
    "\n",
    "El desempaquetado permite asignar múltiples valores almacenados en una lista, tupla u otra colección a variables individuales en una sola línea."
   ]
  },
  {
   "cell_type": "markdown",
   "id": "b935cfe8-bf60-459f-bd56-1ea3ace0eb4f",
   "metadata": {},
   "source": [
    "### **a) Con tuplas**"
   ]
  },
  {
   "cell_type": "code",
   "execution_count": 1,
   "id": "761ec024-aac9-4240-8066-b36e0d62d2fb",
   "metadata": {},
   "outputs": [
    {
     "name": "stdout",
     "output_type": "stream",
     "text": [
      "x:10, y:20\n"
     ]
    }
   ],
   "source": [
    "coordenadas = (10, 20)\n",
    "x, y = coordenadas \n",
    "print(f\"x:{x}, y:{y}\")"
   ]
  },
  {
   "cell_type": "markdown",
   "id": "a02e80b5-429a-42b0-83b7-5e7554b382c4",
   "metadata": {},
   "source": [
    "### **b) Con listas**"
   ]
  },
  {
   "cell_type": "code",
   "execution_count": 2,
   "id": "9cfb38fa-ae4b-4c8a-9420-9a55a65ebb6b",
   "metadata": {},
   "outputs": [
    {
     "name": "stdout",
     "output_type": "stream",
     "text": [
      "1 2 3\n"
     ]
    }
   ],
   "source": [
    "numeros = [1, 2, 3]\n",
    "a, b, c = numeros\n",
    "print(a, b, c)"
   ]
  },
  {
   "cell_type": "markdown",
   "id": "036b4c19-ac9d-4302-86fd-462745b3c3e4",
   "metadata": {},
   "source": [
    "## 2. USO DE F-STRINGS PARA FORMATEO\n",
    "\n",
    "Los ***f-string*** permiten incrustar variables y expresiones directamente dentro de cadenas de texto, haciendo que el código sea más legible."
   ]
  },
  {
   "cell_type": "code",
   "execution_count": 6,
   "id": "3eb84608-82a2-4f05-a760-1eed9bedc3f4",
   "metadata": {},
   "outputs": [
    {
     "name": "stdout",
     "output_type": "stream",
     "text": [
      "Hola, Iván. Tienes 25 años.\n"
     ]
    }
   ],
   "source": [
    "nombre = \"Iván\"\n",
    "edad = 25\n",
    "mensaje = f\"Hola, {nombre}. Tienes {edad} años.\"\n",
    "\n",
    "print(mensaje)"
   ]
  },
  {
   "cell_type": "markdown",
   "id": "845c2025-0473-4591-ac63-705499bacb68",
   "metadata": {},
   "source": [
    "### **a) Cálculos dentro de un f-string** "
   ]
  },
  {
   "cell_type": "code",
   "execution_count": 7,
   "id": "e1181b70-d1eb-4faa-a8c5-5941db381966",
   "metadata": {},
   "outputs": [
    {
     "name": "stdout",
     "output_type": "stream",
     "text": [
      "El precio con descuento es: 80\n"
     ]
    }
   ],
   "source": [
    "precio = 100\n",
    "descuento = 20\n",
    "mensaje = f\"El precio con descuento es: {precio - descuento}\"\n",
    "print(mensaje)"
   ]
  },
  {
   "cell_type": "markdown",
   "id": "0a8c3cd6-c336-4fc1-9b1d-22c44a9d88e6",
   "metadata": {},
   "source": [
    "## 3. BUCLE FOR\n",
    "\n",
    "El bucle ***for*** en Python se utiliza para iterar sobre una secuencia (como listas, tuplas, diccionarios, conjuntos o cadenas) o cualquier objeto iterable."
   ]
  },
  {
   "cell_type": "code",
   "execution_count": 2,
   "id": "cc2896a9-995a-46c3-9936-3ec88f1fe8ea",
   "metadata": {},
   "outputs": [
    {
     "name": "stdout",
     "output_type": "stream",
     "text": [
      "manzana\n",
      "banana\n",
      "cereza\n"
     ]
    }
   ],
   "source": [
    "frutas = [\"manzana\", \"banana\", \"cereza\"]\n",
    "for fruta in frutas:\n",
    "    print(fruta)"
   ]
  },
  {
   "cell_type": "markdown",
   "id": "5e18ebc7-4211-4467-ae27-37878b2bc112",
   "metadata": {},
   "source": [
    "### **a) Iterar con rangos**\n",
    "\n",
    "Usar la función ***range()*** para generar secuencias de números."
   ]
  },
  {
   "cell_type": "code",
   "execution_count": 4,
   "id": "b847b46b-82a1-4ffa-83df-b93dea03028d",
   "metadata": {},
   "outputs": [
    {
     "name": "stdout",
     "output_type": "stream",
     "text": [
      "0\n",
      "1\n",
      "2\n",
      "3\n",
      "4\n"
     ]
    }
   ],
   "source": [
    "for i in range(5):\n",
    "    print(i)"
   ]
  },
  {
   "cell_type": "markdown",
   "id": "3f10cec8-a042-4b80-8d77-48a5778e1dde",
   "metadata": {},
   "source": [
    "**Rangos personalizados**"
   ]
  },
  {
   "cell_type": "code",
   "execution_count": 5,
   "id": "3dab606d-a088-41e9-a05d-cf2919d304f6",
   "metadata": {},
   "outputs": [
    {
     "name": "stdout",
     "output_type": "stream",
     "text": [
      "1\n",
      "3\n",
      "5\n",
      "7\n",
      "9\n"
     ]
    }
   ],
   "source": [
    "# Empieza en 1, termina antes del 10, incrementa en 2\n",
    "for i in range(1, 10, 2):\n",
    "    print(i)"
   ]
  },
  {
   "cell_type": "markdown",
   "id": "85b3dc94-70fc-4915-aa6f-299af74c1eed",
   "metadata": {},
   "source": [
    "### **b) Iterar sobre cadenas**\n",
    "\n",
    "Se puede recorrer cada carácter de una cadena."
   ]
  },
  {
   "cell_type": "code",
   "execution_count": 6,
   "id": "1c4971a1-3743-48c4-9d46-44abc5554147",
   "metadata": {},
   "outputs": [
    {
     "name": "stdout",
     "output_type": "stream",
     "text": [
      "P\n",
      "y\n",
      "t\n",
      "h\n",
      "o\n",
      "n\n"
     ]
    }
   ],
   "source": [
    "cadena = \"Python\"\n",
    "\n",
    "for letra in cadena:\n",
    "    print(letra)"
   ]
  },
  {
   "cell_type": "markdown",
   "id": "d0c89f3d-01aa-4290-8960-2fd8862dd4b2",
   "metadata": {},
   "source": [
    "### **c) Iterar sobre diccionarios**"
   ]
  },
  {
   "cell_type": "code",
   "execution_count": 11,
   "id": "c743ba8f-110a-45e3-82ae-56b487f893ab",
   "metadata": {},
   "outputs": [
    {
     "name": "stdout",
     "output_type": "stream",
     "text": [
      "CLAVES:\n",
      "a\n",
      "b\n",
      "c\n",
      "VALORES\n",
      "1\n",
      "2\n",
      "3\n",
      "CLAVES Y VALOR\n",
      "a: 1\n",
      "b: 2\n",
      "c: 3\n"
     ]
    }
   ],
   "source": [
    "diccionario = {\"a\": 1, \"b\": 2, \"c\": 3}\n",
    "\n",
    "print('CLAVES:')\n",
    "for clave in diccionario:\n",
    "    print(clave)\n",
    "\n",
    "print('VALORES')\n",
    "for valor in diccionario.values():\n",
    "    print(valor)\n",
    "\n",
    "print(\"CLAVES Y VALOR\")\n",
    "for clave, valor in diccionario.items():\n",
    "    print(f\"{clave}: {valor}\")"
   ]
  },
  {
   "cell_type": "markdown",
   "id": "49676e07-9261-478a-99c9-4d2cdd933d71",
   "metadata": {},
   "source": [
    "### **d) Bucle con enumeración** \n",
    "\n",
    "Utilizar ***enumerate()*** para obtener el índice y el valor simultáneamente."
   ]
  },
  {
   "cell_type": "code",
   "execution_count": 13,
   "id": "6f1f5679-f3cf-4d34-9935-f0dea7ee1f80",
   "metadata": {},
   "outputs": [
    {
     "name": "stdout",
     "output_type": "stream",
     "text": [
      "Indice 0: rojo\n",
      "Indice 1: verde\n",
      "Indice 2: morado\n"
     ]
    }
   ],
   "source": [
    "colores = [\"rojo\", \"verde\", \"morado\"]\n",
    "\n",
    "for indice, color in enumerate(colores):\n",
    "    print(f\"Indice {indice}: {color}\")"
   ]
  },
  {
   "cell_type": "markdown",
   "id": "081b31cb-b0d9-4225-86da-d655fba5ff89",
   "metadata": {},
   "source": [
    "### **e) Iterar sobre múltiples listas**\n",
    "\n",
    "Usar ***zip()*** para iterar sobre varias listas a la vez."
   ]
  },
  {
   "cell_type": "code",
   "execution_count": 14,
   "id": "578ac041-f030-4598-b745-171bb62e9942",
   "metadata": {},
   "outputs": [
    {
     "name": "stdout",
     "output_type": "stream",
     "text": [
      "Ana tiene 21 años.\n",
      "Luis tiene 22 años.\n",
      "Eva tiene 18 años.\n"
     ]
    }
   ],
   "source": [
    "nombres = [\"Ana\", \"Luis\", \"Eva\"]\n",
    "edades = [21, 22, 18]\n",
    "\n",
    "for nombre, edad in zip(nombres, edades):\n",
    "    print(f\"{nombre} tiene {edad} años.\")"
   ]
  },
  {
   "cell_type": "markdown",
   "id": "35a61e4c-ac90-4b49-876f-3dcd45543d6f",
   "metadata": {},
   "source": [
    "### **f) Comprensiones en for**\n",
    "\n",
    "Crea estructuras con una sola línea de código usando bucles."
   ]
  },
  {
   "cell_type": "code",
   "execution_count": 23,
   "id": "5286b3c9-c5fe-4307-ba76-fa9fd3ad812a",
   "metadata": {},
   "outputs": [
    {
     "name": "stdout",
     "output_type": "stream",
     "text": [
      "[0, 1, 4, 9, 16]\n"
     ]
    }
   ],
   "source": [
    "numeros = [x**2 for x in range(5)]\n",
    "print(numeros)  "
   ]
  },
  {
   "cell_type": "markdown",
   "id": "c800346d-e205-436d-a1ea-baa21c47bd83",
   "metadata": {},
   "source": [
    "### **g) Control de flujo**"
   ]
  },
  {
   "cell_type": "markdown",
   "id": "794e8575-4550-466e-835d-0f4f8460ec7b",
   "metadata": {},
   "source": [
    "* **break:** Termina el bucle antes de completar todas las iteraciones."
   ]
  },
  {
   "cell_type": "code",
   "execution_count": 17,
   "id": "ae0f2ed4-14f0-4cc7-8d90-fe141c009856",
   "metadata": {},
   "outputs": [
    {
     "name": "stdout",
     "output_type": "stream",
     "text": [
      "0\n",
      "1\n",
      "2\n",
      "3\n",
      "4\n"
     ]
    }
   ],
   "source": [
    "for numero in range(10):\n",
    "    if numero == 5:\n",
    "        break\n",
    "    print(numero)"
   ]
  },
  {
   "cell_type": "markdown",
   "id": "50e9e6f0-9257-45a7-a61c-8aca8299f80f",
   "metadata": {},
   "source": [
    "* **continue:** Salta a la siguiente iteración del bucle."
   ]
  },
  {
   "cell_type": "code",
   "execution_count": 18,
   "id": "36f0ffdb-6624-4317-940c-b1edd89ce185",
   "metadata": {},
   "outputs": [
    {
     "name": "stdout",
     "output_type": "stream",
     "text": [
      "0\n",
      "1\n",
      "3\n",
      "4\n"
     ]
    }
   ],
   "source": [
    "for numero in range(5):\n",
    "    if numero == 2:\n",
    "        continue\n",
    "    print(numero)"
   ]
  },
  {
   "cell_type": "markdown",
   "id": "b00a2d26-f5f3-40ee-9b5e-818189f2d96c",
   "metadata": {},
   "source": [
    "* **else:** Se ejecuta si el bucle no se interrumpe con ***break***."
   ]
  },
  {
   "cell_type": "code",
   "execution_count": 19,
   "id": "b45f4a71-e1ac-4d56-9bca-33be003c8117",
   "metadata": {},
   "outputs": [
    {
     "name": "stdout",
     "output_type": "stream",
     "text": [
      "El bucle terminó sin interrupciones.\n"
     ]
    }
   ],
   "source": [
    "for numero in range(5):\n",
    "    if numero == 6:\n",
    "        break\n",
    "else:\n",
    "    print('El bucle terminó sin interrupciones.')"
   ]
  },
  {
   "cell_type": "markdown",
   "id": "5a123988-ec48-4b1a-83ea-2631bb772a39",
   "metadata": {},
   "source": [
    "### **h) Iterar en sentido inverso**\n",
    "\n",
    "Usar ***reversed()*** para recorrer un iterable al revés."
   ]
  },
  {
   "cell_type": "code",
   "execution_count": 20,
   "id": "721fc53b-ec88-4895-abc7-58f564397d75",
   "metadata": {},
   "outputs": [
    {
     "name": "stdout",
     "output_type": "stream",
     "text": [
      "4\n",
      "3\n",
      "2\n",
      "1\n",
      "0\n"
     ]
    }
   ],
   "source": [
    "for numero in reversed(range(5)):\n",
    "    print(numero)"
   ]
  },
  {
   "cell_type": "markdown",
   "id": "f49b2d91-277e-48c3-a928-a2b576e2ba59",
   "metadata": {},
   "source": [
    "### **i) Iterar sobre conjuntos(sets)**\n",
    "\n",
    "Los conjuntos son no ordenados, pero se pueden iterar."
   ]
  },
  {
   "cell_type": "code",
   "execution_count": 21,
   "id": "97bcf2a6-21b9-4e08-a71f-41f5f4418393",
   "metadata": {},
   "outputs": [
    {
     "name": "stdout",
     "output_type": "stream",
     "text": [
      "banana\n",
      "manzana\n",
      "cereza\n"
     ]
    }
   ],
   "source": [
    "conjunto = {\"manzana\", \"banana\", \"cereza\"}\n",
    "for fruta in conjunto:\n",
    "    print(fruta)"
   ]
  },
  {
   "cell_type": "markdown",
   "id": "11516884-7cba-4949-9d71-fb3f48cc1a8c",
   "metadata": {},
   "source": [
    "### **g) Bucle for con condiciones**"
   ]
  },
  {
   "cell_type": "code",
   "execution_count": 22,
   "id": "bbbe88d3-248b-40ec-8614-fc9d4e2ebfa5",
   "metadata": {},
   "outputs": [
    {
     "name": "stdout",
     "output_type": "stream",
     "text": [
      "[2, 4, 6]\n"
     ]
    }
   ],
   "source": [
    "numeros = [1, 2, 3, 4, 5, 6]\n",
    "\n",
    "pares = [x for x in numeros if x % 2 == 0]\n",
    "print(pares)"
   ]
  },
  {
   "cell_type": "markdown",
   "id": "6289d5ad-dc83-4615-9f9f-885bef1bc818",
   "metadata": {},
   "source": [
    "### EJEMPLO\n",
    "\n",
    "Encuentra números primos en un rango."
   ]
  },
  {
   "cell_type": "code",
   "execution_count": 29,
   "id": "928f98d6-9643-4278-894d-e22c39168ab7",
   "metadata": {},
   "outputs": [
    {
     "name": "stdout",
     "output_type": "stream",
     "text": [
      "2 es primo\n",
      "3 es primo\n",
      "5 es primo\n",
      "7 es primo\n",
      "11 es primo\n",
      "13 es primo\n",
      "17 es primo\n",
      "19 es primo\n"
     ]
    }
   ],
   "source": [
    "for num in range(2,20):\n",
    "    for divisor in range(2, num):\n",
    "        if num % divisor == 0:\n",
    "            break\n",
    "    else:\n",
    "        print(f\"{num} es primo\")"
   ]
  },
  {
   "cell_type": "markdown",
   "id": "bdf6725c-2dce-4e25-a029-c18cba301065",
   "metadata": {},
   "source": [
    "## 4. BUCLE WHILE\n",
    "\n",
    "Se utiliza para repetir un bloque de código mientras una condición sea verdadera. Es útil para situaciones donde no se conoce de antemano el número exacto de iteraciones necesarias."
   ]
  },
  {
   "cell_type": "markdown",
   "id": "6bd74301-e668-492b-b9d0-1384f8087dd3",
   "metadata": {},
   "source": [
    "### **a) Uso de ***break*** para interrumpir**\n",
    "\n",
    "El ***break*** permite salir del bucle antes de que la condición sea ***False***."
   ]
  },
  {
   "cell_type": "code",
   "execution_count": 4,
   "id": "b429b9ad-6066-412b-af6e-2f926d028aaf",
   "metadata": {},
   "outputs": [
    {
     "name": "stdout",
     "output_type": "stream",
     "text": [
      "0\n",
      "1\n",
      "2\n",
      "3\n",
      "4\n",
      "5\n",
      "The history saving thread hit an unexpected error (OperationalError('attempt to write a readonly database')).History will not be written to the database.\n"
     ]
    }
   ],
   "source": [
    "contador = 0 \n",
    "\n",
    "while contador < 10:\n",
    "    print(contador)\n",
    "    if contador == 5:\n",
    "        break\n",
    "    contador += 1"
   ]
  },
  {
   "cell_type": "markdown",
   "id": "d8dbe009-6e09-4caa-8abf-d87f0bd9b401",
   "metadata": {},
   "source": [
    "### **b) Uso de ***continue*** para saltar iteraciones**\n",
    "\n",
    "El ***continue*** permite omitir el resto del bloque en la iteración actual y pasar a la siguiente."
   ]
  },
  {
   "cell_type": "code",
   "execution_count": 5,
   "id": "0db74c09-0292-460f-be4d-229869f81c10",
   "metadata": {},
   "outputs": [
    {
     "name": "stdout",
     "output_type": "stream",
     "text": [
      "1\n",
      "2\n",
      "4\n",
      "5\n"
     ]
    }
   ],
   "source": [
    "contador = 0\n",
    "\n",
    "while contador < 5:\n",
    "    contador += 1\n",
    "    if contador == 3:\n",
    "        continue\n",
    "    print(contador)"
   ]
  },
  {
   "cell_type": "markdown",
   "id": "28988406-130f-470d-a9df-481869ee83f8",
   "metadata": {},
   "source": [
    "### **c) Bucle ***while*** con ***else***.**\n",
    "\n",
    "El bloque ***else*** se ejecuta cuando la condición del bucle se evalúa como ***Flase***, pero no si el bucle se interurmpe con un break."
   ]
  },
  {
   "cell_type": "code",
   "execution_count": 6,
   "id": "7c8a799e-9696-42d5-be3f-22db90199332",
   "metadata": {},
   "outputs": [
    {
     "name": "stdout",
     "output_type": "stream",
     "text": [
      "0\n",
      "1\n",
      "2\n",
      "Bucle completado\n"
     ]
    }
   ],
   "source": [
    "contador = 0\n",
    "\n",
    "while contador < 3:\n",
    "    print(contador)\n",
    "    contador += 1\n",
    "else:\n",
    "    print(\"Bucle completado\")"
   ]
  },
  {
   "cell_type": "markdown",
   "id": "43ef319e-ab61-4ad1-97d3-a87fe3b5316b",
   "metadata": {},
   "source": [
    "### **d) Condición basada en entrada del usuario**\n",
    "\n",
    "Se puede usar ***input()*** para controlar el flujo del bloque."
   ]
  },
  {
   "cell_type": "code",
   "execution_count": 8,
   "id": "5e212558-c258-423a-9ffd-ef06c7fbf2df",
   "metadata": {},
   "outputs": [
    {
     "name": "stdin",
     "output_type": "stream",
     "text": [
      "Escribe 'salir' para terminar:  ola\n"
     ]
    },
    {
     "name": "stdout",
     "output_type": "stream",
     "text": [
      "Escribiste: ola\n"
     ]
    },
    {
     "name": "stdin",
     "output_type": "stream",
     "text": [
      "Escribe 'salir' para terminar:  salir\n"
     ]
    }
   ],
   "source": [
    "while True:\n",
    "    entrada = input(\"Escribe 'salir' para terminar: \")\n",
    "    if entrada.lower() == \"salir\":\n",
    "        break\n",
    "    print(f\"Escribiste: {entrada}\")"
   ]
  },
  {
   "cell_type": "markdown",
   "id": "f51ffdfc-4dd3-4caf-9367-bd0bccb55534",
   "metadata": {},
   "source": [
    "### **e) Contadores y Acumuladores**\n",
    "\n",
    "Los bucles ***while*** son útiles para manejar contadores o acumuladores."
   ]
  },
  {
   "cell_type": "code",
   "execution_count": 12,
   "id": "ae84bb18-db12-4f28-ab2c-de37110237ed",
   "metadata": {},
   "outputs": [
    {
     "name": "stdout",
     "output_type": "stream",
     "text": [
      "2 1\n",
      "3 3\n",
      "4 6\n",
      "5 10\n",
      "6 15\n",
      "La suma total es: 15\n"
     ]
    }
   ],
   "source": [
    "contador = 1\n",
    "total = 0\n",
    "\n",
    "while contador <= 5:\n",
    "    total += contador\n",
    "    contador += 1\n",
    "print(f'La suma total es: {total}')"
   ]
  },
  {
   "cell_type": "markdown",
   "id": "d1c1ccd2-a4c7-4939-a14a-8f3c7f11421e",
   "metadata": {},
   "source": [
    "## 5. FUNCIONES INTEGRADAS (BUILD-IN)\n",
    "\n",
    "Las funciones integradas en Python(build-in functions) son herramientas predefinidas que vienen incluidas en el lenguaje, sin necesidad de importar ningún módulo adicional. Estas funciones facilitan tareas comunes como convertir datos, realizar cálculos, manipular colecciones y mucho más."
   ]
  },
  {
   "cell_type": "markdown",
   "id": "1b42d92a-afa9-4bd5-b33e-98e225410d4b",
   "metadata": {},
   "source": [
    "### **a) Funciones básicas para cálculos numéricos.**\n",
    "\n",
    "* **abs(x):** Devuelve el valor absoluto de X.\n",
    "* **round(x, n):** Redondea X a N decimales.\n",
    "* **pow(base, exp):** Calcula la potencia (base ** exp).\n",
    "* **divmod(a, b):** Devuelve el cociente y el resto como una tupla (a // b, a % b)"
   ]
  },
  {
   "cell_type": "code",
   "execution_count": 6,
   "id": "b72a5402-39a5-49f7-80d1-157e1e0fae71",
   "metadata": {},
   "outputs": [
    {
     "name": "stdout",
     "output_type": "stream",
     "text": [
      "1. Valor absoluto de -10:  10\n",
      "2. Redondear 3.1416:  3.14\n",
      "3. Exponete de 2 ** 3:  8\n",
      "4. Cociente y resto de 10 y 3 (3, 1)\n"
     ]
    }
   ],
   "source": [
    "print(\"1. Valor absoluto de -10: \", abs(-10))\n",
    "print(\"2. Redondear 3.1416: \", round(3.1416, 2))\n",
    "print(\"3. Exponete de 2 ** 3: \", pow(2, 3))\n",
    "print(\"4. Cociente y resto de 10 y 3\", divmod(10, 3))"
   ]
  },
  {
   "cell_type": "markdown",
   "id": "1eebd292-aaac-4b22-8942-53100fd1b9d1",
   "metadata": {},
   "source": [
    "### **b) Funciones para colecciones**\n",
    "\n",
    "Funciones útiles para trabajar con secuencias y colecciones.\n",
    "\n",
    "* **len(s):** Devuelve la longitud de S.\n",
    "* **max(iterable):** Devuelve el valor máximo.\n",
    "* **min(iterable):** Devuelve el valor mímino.\n",
    "* **sum(iterable):** Suma todos los elementos.\n",
    "* **sorted(iterable):** Devuelve una lista ordenada."
   ]
  },
  {
   "cell_type": "code",
   "execution_count": 8,
   "id": "274f3018-80d1-41cc-8570-5dee1ca0fc7e",
   "metadata": {},
   "outputs": [
    {
     "name": "stdout",
     "output_type": "stream",
     "text": [
      "La longitud de la lista es:  4\n",
      "El valor máximo es:  10\n",
      "El valor mínimo es:  1\n",
      "La suma de los valores de la lista es:  18\n",
      "Lista ordenada:  [1, 2, 5, 10]\n"
     ]
    }
   ],
   "source": [
    "lista = [2, 5, 1, 10]\n",
    "\n",
    "print(\"La longitud de la lista es: \",len(lista))\n",
    "print(\"El valor máximo es: \", max(lista))\n",
    "print(\"El valor mínimo es: \", min(lista))\n",
    "print(\"La suma de los valores de la lista es: \", sum(lista))\n",
    "print(\"Lista ordenada: \", sorted(lista))"
   ]
  },
  {
   "cell_type": "markdown",
   "id": "1025a320-2683-4ac8-98d3-fec590b9c262",
   "metadata": {},
   "source": [
    "### **c) Funciones Relacionadas con archivos**\n",
    "\n",
    "* **lamda:** Crea funciones anónimas.\n",
    "* **any(iterable):** Devuelve ***True*** si algún elemento es verdadero.\n",
    "* **all(iterable):** Devuelve ***True*** si todos los elementos son verdaderos."
   ]
  },
  {
   "cell_type": "code",
   "execution_count": 9,
   "id": "24eb6029-4ad8-449d-b118-cdba5e917cb7",
   "metadata": {},
   "outputs": [
    {
     "name": "stdout",
     "output_type": "stream",
     "text": [
      "True\n",
      "False\n"
     ]
    }
   ],
   "source": [
    "numeros = [1, 2, 0, 4]\n",
    "\n",
    "print(any(numeros))\n",
    "print(all(numeros))"
   ]
  },
  {
   "cell_type": "markdown",
   "id": "8febe88f-1001-4412-8f89-7bb48f0c06bf",
   "metadata": {},
   "source": [
    "## 6. CREANDO FUNCIONES\n",
    "\n",
    "Son bloques de código reutilizables que realizan una tarea específica."
   ]
  },
  {
   "cell_type": "markdown",
   "id": "04846e0b-80f8-4aba-a45b-fbf03e81a1bd",
   "metadata": {},
   "source": [
    "### **a) Definición de una función**\n",
    "\n",
    "Para definir una funcipon en python, se usa la palabra clave ***def***, seguida del nombre de la función y el paréntesis."
   ]
  },
  {
   "cell_type": "code",
   "execution_count": 1,
   "id": "a410c437-805a-4a82-87bb-e73940c95cf3",
   "metadata": {},
   "outputs": [
    {
     "name": "stdout",
     "output_type": "stream",
     "text": [
      "Esto es una función\n"
     ]
    }
   ],
   "source": [
    "def nombre_funcion():\n",
    "    print(\"Esto es una función\")\n",
    "\n",
    "nombre_funcion()"
   ]
  },
  {
   "cell_type": "markdown",
   "id": "1e825d95-f85c-4ea6-924c-1e7747c12847",
   "metadata": {},
   "source": [
    "### **b) Funciones con parámetros**\n",
    "\n",
    "Se pueden pasar parámetros a una función para que trabaje con diferentes valores."
   ]
  },
  {
   "cell_type": "code",
   "execution_count": 2,
   "id": "e64615a8-def4-4c14-afc0-33222625c1be",
   "metadata": {},
   "outputs": [
    {
     "name": "stdout",
     "output_type": "stream",
     "text": [
      "Hola, Iván\n"
     ]
    }
   ],
   "source": [
    "def saludar(nombre):\n",
    "    print(f'Hola, {nombre}')\n",
    "\n",
    "saludar(\"Iván\")"
   ]
  },
  {
   "cell_type": "markdown",
   "id": "e5e4d894-d494-4030-8a8d-f67af777db3d",
   "metadata": {},
   "source": [
    "### **c) Funciones con retorno**\n",
    "\n",
    "Las funciones pueden devolver valores usando ***return***."
   ]
  },
  {
   "cell_type": "code",
   "execution_count": 3,
   "id": "d4efd910-908f-4c70-a808-34c1fc202239",
   "metadata": {},
   "outputs": [
    {
     "name": "stdout",
     "output_type": "stream",
     "text": [
      "8\n"
     ]
    }
   ],
   "source": [
    "def suma(a, b):\n",
    "    return a + b\n",
    "\n",
    "resultado = suma(3, 5)\n",
    "print(resultado)"
   ]
  },
  {
   "cell_type": "markdown",
   "id": "caa9cab3-8f74-4ea8-bbf4-8617c3352816",
   "metadata": {},
   "source": [
    "### **d) Parámetros predeterminados**\n",
    "\n",
    "Se pueden definir valores predeterminados para los parámetros."
   ]
  },
  {
   "cell_type": "code",
   "execution_count": 4,
   "id": "77368169-49f3-4054-8ad8-c2ab0cd8eab4",
   "metadata": {},
   "outputs": [
    {
     "name": "stdout",
     "output_type": "stream",
     "text": [
      "Buen día, Iván\n",
      "Hola, Ana\n"
     ]
    }
   ],
   "source": [
    "def saludo(nombre, mensaje = \"Buen día\"):\n",
    "    print(f'{mensaje}, {nombre}')\n",
    "\n",
    "saludo('Iván')\n",
    "saludo('Ana', 'Hola')"
   ]
  },
  {
   "cell_type": "markdown",
   "id": "17dea151-cad3-4827-b9d8-d8be00a6addc",
   "metadata": {},
   "source": [
    "### **e) Argumentos de longuitud variable**\n",
    "\n",
    "Se puede usar ***args*** para pasar un número variable de argumentos posicionales.\n"
   ]
  },
  {
   "cell_type": "code",
   "execution_count": 5,
   "id": "6c5d88df-3d8d-4420-a302-5f0d70b1e106",
   "metadata": {},
   "outputs": [
    {
     "name": "stdout",
     "output_type": "stream",
     "text": [
      "10\n"
     ]
    }
   ],
   "source": [
    "def suma_numeros(*args):\n",
    "    return sum(args)\n",
    "\n",
    "print(suma_numeros(1, 2, 3 ,4))"
   ]
  },
  {
   "cell_type": "markdown",
   "id": "258ef369-417d-4d0a-a661-dfa69b13b30e",
   "metadata": {},
   "source": [
    "### **f) Funciones Lambda(funciones anónimas)**\n",
    "\n",
    "Son funciones pequeñas en una sola línea."
   ]
  },
  {
   "cell_type": "code",
   "execution_count": 8,
   "id": "6572402a-0787-4617-b8c8-08ac7ca89d22",
   "metadata": {},
   "outputs": [
    {
     "name": "stdout",
     "output_type": "stream",
     "text": [
      "10\n"
     ]
    }
   ],
   "source": [
    "doblar = lambda x: x * 2\n",
    "print(doblar(5))"
   ]
  },
  {
   "cell_type": "markdown",
   "id": "b454f6d1-c5c3-494c-89ae-03d5141a9cc7",
   "metadata": {},
   "source": [
    "### **g) Funciones como objetos**\n",
    "\n",
    "En Python, las funciones son objetos de primera clase, lo que significa que pueden asignarse a variables."
   ]
  },
  {
   "cell_type": "code",
   "execution_count": 10,
   "id": "ab4cb0f4-62c4-474a-b34a-3c47943392a1",
   "metadata": {},
   "outputs": [
    {
     "name": "stdout",
     "output_type": "stream",
     "text": [
      "500\n"
     ]
    }
   ],
   "source": [
    "def multiplicar(a, b):\n",
    "    return a * b\n",
    "\n",
    "operacion = multiplicar\n",
    "print(operacion(100, 5))"
   ]
  },
  {
   "cell_type": "code",
   "execution_count": null,
   "id": "bedd3027-0b51-4e12-8a25-f9f3126a43f3",
   "metadata": {},
   "outputs": [],
   "source": []
  }
 ],
 "metadata": {
  "kernelspec": {
   "display_name": "Python 3 (ipykernel)",
   "language": "python",
   "name": "python3"
  },
  "language_info": {
   "codemirror_mode": {
    "name": "ipython",
    "version": 3
   },
   "file_extension": ".py",
   "mimetype": "text/x-python",
   "name": "python",
   "nbconvert_exporter": "python",
   "pygments_lexer": "ipython3",
   "version": "3.9.20"
  }
 },
 "nbformat": 4,
 "nbformat_minor": 5
}
