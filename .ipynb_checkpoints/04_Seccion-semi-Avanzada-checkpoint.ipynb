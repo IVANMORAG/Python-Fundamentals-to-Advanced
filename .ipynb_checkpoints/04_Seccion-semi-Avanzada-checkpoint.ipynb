{
 "cells": [
  {
   "cell_type": "markdown",
   "id": "68dc0873-1b3c-49e8-9b83-16f477a5317e",
   "metadata": {},
   "source": [
    "# SECCION SEMI-AVANZADA"
   ]
  },
  {
   "cell_type": "markdown",
   "id": "4bc982b3-7fff-42c3-b7e0-0e3674dabda7",
   "metadata": {},
   "source": [
    "## 1. MÓDULOS\n",
    "\n",
    "En Python un ***módulo*** es un archivo que contiene definiciones y declaraciones (como funciones, clases y variables) que puedes reutilizar en otros programas. Los módulos permiten organizar y reutilizar código de manera más eficiente."
   ]
  },
  {
   "cell_type": "markdown",
   "id": "db5520c8-6a60-417b-9967-7dd8b997969e",
   "metadata": {},
   "source": [
    "### **a) Importar Módulos**"
   ]
  },
  {
   "cell_type": "markdown",
   "id": "130ae1d8-b449-430d-81ab-611f809f5238",
   "metadata": {},
   "source": [
    "* #### **Importar un módulo**\n",
    "\n",
    "Se puede importar un módulo estándar o creado por nosotros usando ***import***."
   ]
  },
  {
   "cell_type": "code",
   "execution_count": 2,
   "id": "bfb15ad8-f82b-4182-b3fe-6a3330635ce9",
   "metadata": {},
   "outputs": [
    {
     "name": "stdout",
     "output_type": "stream",
     "text": [
      "4.0\n"
     ]
    }
   ],
   "source": [
    "import math\n",
    "\n",
    "print(math.sqrt(16))"
   ]
  },
  {
   "cell_type": "markdown",
   "id": "4fa9f7a6-a68b-4797-943d-882a133beeb8",
   "metadata": {},
   "source": [
    "* #### **Importar un módulo con alias**\n",
    "\n",
    "Usa ***as*** para darle un nombre más corto o descriptivo."
   ]
  },
  {
   "cell_type": "code",
   "execution_count": 3,
   "id": "51903b57-f87c-4e86-9f28-62de74ad4739",
   "metadata": {},
   "outputs": [
    {
     "name": "stdout",
     "output_type": "stream",
     "text": [
      "4.0\n"
     ]
    }
   ],
   "source": [
    "import math as m\n",
    "\n",
    "print(m.sqrt(16))"
   ]
  },
  {
   "cell_type": "markdown",
   "id": "f0bcba6a-447f-4169-9993-77c594e27af9",
   "metadata": {},
   "source": [
    "* #### **Importar solo parte del módulo**\n",
    "\n",
    "Con ***from***, puedes importar elementos específicos de un módulo."
   ]
  },
  {
   "cell_type": "code",
   "execution_count": 5,
   "id": "90a5401c-d88f-4469-bfc5-1d34cfdecaab",
   "metadata": {},
   "outputs": [
    {
     "name": "stdout",
     "output_type": "stream",
     "text": [
      "2.23606797749979\n",
      "3.141592653589793\n"
     ]
    }
   ],
   "source": [
    "from math import sqrt, pi\n",
    "\n",
    "print(sqrt(5))\n",
    "print(pi)"
   ]
  },
  {
   "cell_type": "markdown",
   "id": "acf7c93d-9d90-474d-ba52-70f899c7d3a3",
   "metadata": {},
   "source": [
    "### **b) Creación de módulos propios**\n",
    "\n",
    "Se pueden crear nuestros propios módulos guardando código en un archivo con extensión ***.py***"
   ]
  },
  {
   "cell_type": "code",
   "execution_count": null,
   "id": "74b573eb-648e-4c7a-87c2-2d5173dd4f8c",
   "metadata": {},
   "outputs": [],
   "source": []
  }
 ],
 "metadata": {
  "kernelspec": {
   "display_name": "Python 3 (ipykernel)",
   "language": "python",
   "name": "python3"
  },
  "language_info": {
   "codemirror_mode": {
    "name": "ipython",
    "version": 3
   },
   "file_extension": ".py",
   "mimetype": "text/x-python",
   "name": "python",
   "nbconvert_exporter": "python",
   "pygments_lexer": "ipython3",
   "version": "3.9.20"
  }
 },
 "nbformat": 4,
 "nbformat_minor": 5
}
