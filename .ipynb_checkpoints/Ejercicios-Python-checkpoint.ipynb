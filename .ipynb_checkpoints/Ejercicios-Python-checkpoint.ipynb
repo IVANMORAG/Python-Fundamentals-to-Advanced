{
 "cells": [
  {
   "cell_type": "markdown",
   "id": "ee1d9ffa-9cae-4ff0-8a2e-caa64ec1126b",
   "metadata": {},
   "source": [
    "# PRÁCTICA DE LÓGICA EN PYTHON\n",
    "\n",
    "Este notebook contiene una serie de ejercicios diseñados para practicar lógica de programación en Python. Los ejercicios están organizados de manera progresiva, comenzando con problemas sencillos y avanzando hacia desafíos más complejos. Incluye ejercicios que te permitirán desarrollar tus habilidades de pensamiento lógico, manipulación de datos y control de flujo en Python.\n"
   ]
  },
  {
   "cell_type": "markdown",
   "id": "de3122a1-7db8-4b64-9c5e-07689fffa298",
   "metadata": {},
   "source": [
    "## 1. Par o impar\n",
    "\n",
    "Escribe un programa que reciba un número entero como entrada e indique si es par o impar."
   ]
  },
  {
   "cell_type": "code",
   "execution_count": 10,
   "id": "ae8b6995-3208-45b4-9bdf-360b43c7e0fc",
   "metadata": {},
   "outputs": [
    {
     "name": "stdin",
     "output_type": "stream",
     "text": [
      "Ingrese un número: 5\n"
     ]
    },
    {
     "name": "stdout",
     "output_type": "stream",
     "text": [
      "El número 5 es impar\n"
     ]
    }
   ],
   "source": [
    "num = int(input(\"Ingrese un número:\"))\n",
    "\n",
    "if num % 2 == 0:\n",
    "    print(f\"El número {num} es par\")\n",
    "else:\n",
    "    print(f\"El número {num} es impar\")"
   ]
  },
  {
   "cell_type": "markdown",
   "id": "1fd2acda-59df-4bca-9ef8-56a03528f745",
   "metadata": {},
   "source": [
    "## 2. Mayor de 3 números\n",
    "\n",
    "Escribe un programa que pida tres números y determine cuál es el mayor."
   ]
  },
  {
   "cell_type": "code",
   "execution_count": 1,
   "id": "9a0bbfc7-32c2-4b60-8eff-a8d11d1a77ba",
   "metadata": {},
   "outputs": [
    {
     "name": "stdin",
     "output_type": "stream",
     "text": [
      "Ingrese tres números separados por espacios:  2 4 6\n"
     ]
    },
    {
     "name": "stdout",
     "output_type": "stream",
     "text": [
      "El número 6 es el mayor\n"
     ]
    }
   ],
   "source": [
    "a, b, c = input(\"Ingrese tres números separados por espacios: \").split()\n",
    "\n",
    "a = int(a)\n",
    "b = int(b)\n",
    "c = int(c)\n",
    "\n",
    "if a > b and a > c:\n",
    "    print(f\"El número {a} es el mayor\")\n",
    "elif b > a and b > c:\n",
    "    print(f\"El número {b} es el mayor\")\n",
    "else:\n",
    "    print(f\"El número {c} es el mayor\")"
   ]
  },
  {
   "cell_type": "markdown",
   "id": "b9d98a0f-9d57-4d03-867b-b5a83652ca56",
   "metadata": {},
   "source": [
    "## 3. Suma de números naturales\n",
    "\n",
    "Escribe un programa que calcule la suma de los números naturales desde 1 hasta un número ingresado por el usuario."
   ]
  },
  {
   "cell_type": "code",
   "execution_count": 11,
   "id": "b8750b5d-12ed-44ce-a795-376801554749",
   "metadata": {},
   "outputs": [
    {
     "name": "stdin",
     "output_type": "stream",
     "text": [
      "Ingrese un número:  5\n"
     ]
    },
    {
     "name": "stdout",
     "output_type": "stream",
     "text": [
      "0 + 0 = 0\n",
      "0 + 1 = 1\n",
      "1 + 2 = 3\n",
      "3 + 3 = 6\n",
      "6 + 4 = 10\n",
      "10 + 5 = 15\n",
      "La suma total es: 15\n"
     ]
    }
   ],
   "source": [
    "num = int(input(\"Ingrese un número: \"))\n",
    "\n",
    "suma = 0\n",
    "\n",
    "for i in range(0, num + 1):\n",
    "    suma = suma + i\n",
    "    print(f\"{suma-i} + {i} = {suma}\")\n",
    "\n",
    "print(f\"La suma total es: {suma}\")"
   ]
  },
  {
   "cell_type": "markdown",
   "id": "e243b4a7-4b6f-49ff-8a6e-5324fb50af9a",
   "metadata": {},
   "source": [
    "## 4. Tablas de multiplicar\n",
    "\n",
    "Crea un programa que imprima la tabla de multiplicar de un número dado por el usuario."
   ]
  },
  {
   "cell_type": "code",
   "execution_count": 8,
   "id": "82842d34-dc6e-4a25-930f-21a101b931c7",
   "metadata": {},
   "outputs": [
    {
     "name": "stdin",
     "output_type": "stream",
     "text": [
      "Ingrese un número:  5\n"
     ]
    },
    {
     "name": "stdout",
     "output_type": "stream",
     "text": [
      "1 * 5 = 5\n",
      "2 * 5 = 10\n",
      "3 * 5 = 15\n",
      "4 * 5 = 20\n",
      "5 * 5 = 25\n",
      "6 * 5 = 30\n",
      "7 * 5 = 35\n",
      "8 * 5 = 40\n",
      "9 * 5 = 45\n",
      "10 * 5 = 50\n"
     ]
    }
   ],
   "source": [
    "num = int(input(\"Ingrese un número: \"))\n",
    "\n",
    "for i in range(1, 11):\n",
    "    total = i * num\n",
    "    print(f\"{i} * {num} = {total}\")"
   ]
  },
  {
   "cell_type": "markdown",
   "id": "b255f364-52fd-403d-904d-1c18cb35d86e",
   "metadata": {},
   "source": [
    "## 5. Números primos en un rango.\n",
    "\n",
    "Escribe un programa que encuentre todos lo números primos entre dos números dados."
   ]
  },
  {
   "cell_type": "code",
   "execution_count": 49,
   "id": "618aad2e-49cd-46f4-83b6-ab6c11a4a69d",
   "metadata": {},
   "outputs": [
    {
     "name": "stdin",
     "output_type": "stream",
     "text": [
      "Ingrese los rangos: 3 20\n"
     ]
    }
   ],
   "source": [
    "a, b = input(\"Ingrese los rangos:\").split()\n",
    "\n",
    "a = int(a)\n",
    "b = int(b)\n",
    "\n",
    "if a == 2:\n",
    "    print(f'Es primo: {a}')\n",
    "    \n",
    "    for i in range(a, b+1):\n",
    "        if i % 2 == 0:\n",
    "            print()\n",
    "        else:\n",
    "            print(f'Es primo: {i}')\n",
    "else:\n",
    "    for i in range(a, b+1):\n",
    "        if i % 2 == 0:\n",
    "            print()\n",
    "        else:\n",
    "            print(f'Es primo: {i}')"
   ]
  },
  {
   "cell_type": "code",
   "execution_count": null,
   "id": "a85895c0-1afc-48df-ada0-8659b90aa779",
   "metadata": {},
   "outputs": [],
   "source": []
  }
 ],
 "metadata": {
  "kernelspec": {
   "display_name": "Python 3 (ipykernel)",
   "language": "python",
   "name": "python3"
  },
  "language_info": {
   "codemirror_mode": {
    "name": "ipython",
    "version": 3
   },
   "file_extension": ".py",
   "mimetype": "text/x-python",
   "name": "python",
   "nbconvert_exporter": "python",
   "pygments_lexer": "ipython3",
   "version": "3.9.20"
  }
 },
 "nbformat": 4,
 "nbformat_minor": 5
}
