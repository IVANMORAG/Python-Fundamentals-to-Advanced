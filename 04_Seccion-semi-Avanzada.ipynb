{
 "cells": [
  {
   "cell_type": "markdown",
   "id": "68dc0873-1b3c-49e8-9b83-16f477a5317e",
   "metadata": {},
   "source": [
    "# SECCION SEMI-AVANZADA"
   ]
  },
  {
   "cell_type": "markdown",
   "id": "4bc982b3-7fff-42c3-b7e0-0e3674dabda7",
   "metadata": {},
   "source": [
    "## 1. MÓDULOS\n",
    "\n",
    "En Python un ***módulo*** es un archivo que contiene definiciones y declaraciones (como funciones, clases y variables) que puedes reutilizar en otros programas. Los módulos permiten organizar y reutilizar código de manera más eficiente."
   ]
  },
  {
   "cell_type": "markdown",
   "id": "db5520c8-6a60-417b-9967-7dd8b997969e",
   "metadata": {},
   "source": [
    "### **a) Importar Módulos**"
   ]
  },
  {
   "cell_type": "markdown",
   "id": "130ae1d8-b449-430d-81ab-611f809f5238",
   "metadata": {},
   "source": [
    "* #### **Importar un módulo**\n",
    "\n",
    "Se puede importar un módulo estándar o creado por nosotros usando ***import***."
   ]
  },
  {
   "cell_type": "code",
   "execution_count": 2,
   "id": "bfb15ad8-f82b-4182-b3fe-6a3330635ce9",
   "metadata": {},
   "outputs": [
    {
     "name": "stdout",
     "output_type": "stream",
     "text": [
      "4.0\n"
     ]
    }
   ],
   "source": [
    "import math\n",
    "\n",
    "print(math.sqrt(16))"
   ]
  },
  {
   "cell_type": "markdown",
   "id": "4fa9f7a6-a68b-4797-943d-882a133beeb8",
   "metadata": {},
   "source": [
    "* #### **Importar un módulo con alias**\n",
    "\n",
    "Usa ***as*** para darle un nombre más corto o descriptivo."
   ]
  },
  {
   "cell_type": "code",
   "execution_count": 3,
   "id": "51903b57-f87c-4e86-9f28-62de74ad4739",
   "metadata": {},
   "outputs": [
    {
     "name": "stdout",
     "output_type": "stream",
     "text": [
      "4.0\n"
     ]
    }
   ],
   "source": [
    "import math as m\n",
    "\n",
    "print(m.sqrt(16))"
   ]
  },
  {
   "cell_type": "markdown",
   "id": "f0bcba6a-447f-4169-9993-77c594e27af9",
   "metadata": {},
   "source": [
    "* #### **Importar solo parte del módulo**\n",
    "\n",
    "Con ***from***, puedes importar elementos específicos de un módulo."
   ]
  },
  {
   "cell_type": "code",
   "execution_count": 5,
   "id": "90a5401c-d88f-4469-bfc5-1d34cfdecaab",
   "metadata": {},
   "outputs": [
    {
     "name": "stdout",
     "output_type": "stream",
     "text": [
      "2.23606797749979\n",
      "3.141592653589793\n"
     ]
    }
   ],
   "source": [
    "from math import sqrt, pi\n",
    "\n",
    "print(sqrt(5))\n",
    "print(pi)"
   ]
  },
  {
   "cell_type": "markdown",
   "id": "acf7c93d-9d90-474d-ba52-70f899c7d3a3",
   "metadata": {},
   "source": [
    "### **b) Creación de módulos propios**\n",
    "\n",
    "Se pueden crear nuestros propios módulos guardando código en un archivo con extensión ***.py***"
   ]
  },
  {
   "cell_type": "markdown",
   "id": "e85b4e45-d7d6-4ab8-ae75-615908a7a3b3",
   "metadata": {},
   "source": [
    "+ Crear un archivo llamado ***mi_modulo.py*** con el siguiente contenido:\n",
    "\n",
    "```\n",
    "def saludar(nombre):\n",
    "    return f\"Hola, {nombre}\"\n",
    "\n",
    "PI = 3.1416\n",
    "```"
   ]
  },
  {
   "cell_type": "markdown",
   "id": "5701685a-dc87-44ab-b1d8-808431a6f542",
   "metadata": {},
   "source": [
    "+ En otro archivo, importa y usa el módulo.\n",
    "\n",
    "```\n",
    "import mi_modulo\n",
    "\n",
    "print(mi_modulo.saludar(\"Iván\"))\n",
    "print(mi_modulo.PI)"
   ]
  },
  {
   "cell_type": "markdown",
   "id": "d9c27c28-1c44-4c65-a220-edf47fa908f5",
   "metadata": {},
   "source": [
    "### **c) Módulos estándar de Python**\n",
    "\n",
    "Python inluye una gran cantidad de módlos estándar para diversas teas."
   ]
  },
  {
   "cell_type": "markdown",
   "id": "434866fa-b3d5-48c7-a6bb-e28bc7970277",
   "metadata": {},
   "source": [
    "* **math:** Operaciones matemáticas avnzadas."
   ]
  },
  {
   "cell_type": "code",
   "execution_count": 2,
   "id": "7da6e8b7-c866-4342-b2b9-e9ae70a2fa23",
   "metadata": {},
   "outputs": [
    {
     "name": "stdout",
     "output_type": "stream",
     "text": [
      "40320\n",
      "-1.0\n"
     ]
    }
   ],
   "source": [
    "import math\n",
    "\n",
    "print(math.factorial(8))\n",
    "print(math.cos(math.pi))"
   ]
  },
  {
   "cell_type": "markdown",
   "id": "f1ec4a04-b326-4c99-8635-a2d54c9b1be8",
   "metadata": {},
   "source": [
    "* **random:** Generación de números aleatoros."
   ]
  },
  {
   "cell_type": "code",
   "execution_count": 3,
   "id": "d32460ba-b4db-42dd-9d94-d93766d7ae78",
   "metadata": {},
   "outputs": [
    {
     "name": "stdout",
     "output_type": "stream",
     "text": [
      "18\n"
     ]
    }
   ],
   "source": [
    "import random\n",
    "\n",
    "print(random.randint(1, 40))"
   ]
  },
  {
   "cell_type": "markdown",
   "id": "d4b72da5-38d7-4662-bc9c-1d61e87c6e4f",
   "metadata": {},
   "source": [
    "* **datetime:** Manejo de fechas y horas."
   ]
  },
  {
   "cell_type": "code",
   "execution_count": 5,
   "id": "e5b8d247-9328-42c7-b0b0-e7b751a8b243",
   "metadata": {},
   "outputs": [
    {
     "name": "stdout",
     "output_type": "stream",
     "text": [
      "2024-12-12 20:31:40.991448\n"
     ]
    }
   ],
   "source": [
    "from datetime import datetime\n",
    "\n",
    "print(datetime.now())"
   ]
  },
  {
   "cell_type": "markdown",
   "id": "369d7d80-1f61-47d9-ad7b-39e499928ddc",
   "metadata": {},
   "source": [
    "* **os:** Interacción con el sistema operativo. "
   ]
  },
  {
   "cell_type": "code",
   "execution_count": 6,
   "id": "72def8e9-c8c7-439b-9a87-3e986ccea953",
   "metadata": {},
   "outputs": [
    {
     "name": "stdout",
     "output_type": "stream",
     "text": [
      "/home/ivn-mg/Documents/Python-Notebook-Collection\n"
     ]
    }
   ],
   "source": [
    "import os\n",
    "\n",
    "print(os.getcwd())"
   ]
  },
  {
   "cell_type": "markdown",
   "id": "fd20e803-8127-46d0-8b46-99e409726a10",
   "metadata": {},
   "source": [
    "## 2. PAQUETES\n",
    "\n",
    "En Python, un paquete es una forma de organizar módulos relacionados en un directorio. Los paquetes facilitan la estructuración de proyectos grandes dividiendo el código en parte lógicas y reutilizables.\n",
    "\n",
    "***__init__.py*** \n",
    "\n",
    "Este archivo puede estar vacío o contener inicialización de código para el paquete.\n"
   ]
  },
  {
   "cell_type": "code",
   "execution_count": 20,
   "id": "4fe6a526-7414-4f7b-9ff6-021d66e6fe3b",
   "metadata": {},
   "outputs": [],
   "source": [
    "#mi_paquete/\n",
    "#│\n",
    "#├── __init__.py      # Indica que la carpeta es un paquete\n",
    "#├── modulo1.py       # Un módulo dentro del paquete\n",
    "#├── modulo2.py       # Otro módulo\n",
    "#└── subpaquete/      # Subpaquete (otro paquete dentro del principal)\n",
    "#    ├── __init__.py\n",
    "#    ├── modulo3.py\n",
    "#    └── modulo4.py"
   ]
  },
  {
   "cell_type": "markdown",
   "id": "1e5535c8-46b5-4427-9576-7f58d7162b5c",
   "metadata": {},
   "source": [
    "### **a) Crear estructura de un paquete**\n",
    "\n",
    "Usa ***%%writefie*** para crear archivos y carpetas."
   ]
  },
  {
   "cell_type": "code",
   "execution_count": 17,
   "id": "f04852bd-48e7-4ee9-a9ee-6a5f10752a30",
   "metadata": {},
   "outputs": [
    {
     "name": "stdout",
     "output_type": "stream",
     "text": [
      "Overwriting mi_paquete/__init__.py\n"
     ]
    }
   ],
   "source": [
    "%%writefile mi_paquete/__init__.py\n",
    "print(\"Paquete 'mi_paquete' inicializado\")"
   ]
  },
  {
   "cell_type": "code",
   "execution_count": 15,
   "id": "8ceddadc-91ff-456c-89ed-4fe50b3bb17e",
   "metadata": {},
   "outputs": [
    {
     "name": "stdout",
     "output_type": "stream",
     "text": [
      "Overwriting mi_paquete/modulo1.py\n"
     ]
    }
   ],
   "source": [
    "%%writefile mi_paquete/modulo1.py\n",
    "def function1():\n",
    "    return \"Función 1 desde modulo1\""
   ]
  },
  {
   "cell_type": "code",
   "execution_count": 16,
   "id": "089f1e37-3208-4999-a894-9098a9abe6bb",
   "metadata": {},
   "outputs": [
    {
     "name": "stdout",
     "output_type": "stream",
     "text": [
      "Writing mi_paquete/modulo2.py\n"
     ]
    }
   ],
   "source": [
    "%%writefile mi_paquete/modulo2.py\n",
    "def function2():\n",
    "    return \"Función 2 desde modulo2.py\""
   ]
  },
  {
   "cell_type": "markdown",
   "id": "7181cc7e-e463-4011-851b-922800c28db7",
   "metadata": {},
   "source": [
    "### **b) Importar y usar el paquete**\n",
    "\n",
    "Importar el paquete en las celdas del notebook."
   ]
  },
  {
   "cell_type": "code",
   "execution_count": 18,
   "id": "14fb0a28-18e0-41c2-89fd-777c434b9713",
   "metadata": {},
   "outputs": [
    {
     "name": "stdout",
     "output_type": "stream",
     "text": [
      "Función 1 desde modulo1\n",
      "Función 2 desde modulo2.py\n"
     ]
    }
   ],
   "source": [
    "from mi_paquete import modulo1, modulo2\n",
    "\n",
    "print(modulo1.function1())\n",
    "print(modulo2.function2())"
   ]
  },
  {
   "cell_type": "markdown",
   "id": "019ed65a-9bf8-482b-b512-acafb7355387",
   "metadata": {},
   "source": [
    "* **c) Crear un subpaquete**\n",
    "\n",
    "Agregar carpetas adicionales dentro del paquete."
   ]
  },
  {
   "cell_type": "code",
   "execution_count": 25,
   "id": "9414b641-a244-406a-9c30-853e8f5a04d9",
   "metadata": {},
   "outputs": [
    {
     "name": "stdout",
     "output_type": "stream",
     "text": [
      "Overwriting mi_paquete/subpaquete/__init__.py\n"
     ]
    }
   ],
   "source": [
    "%%writefile mi_paquete/subpaquete/__init__.py\n",
    "print(\"Subpaquete 'subpaquete' inicializado\")"
   ]
  },
  {
   "cell_type": "code",
   "execution_count": 31,
   "id": "41475d57-b125-49c9-8937-d6044c3f062e",
   "metadata": {},
   "outputs": [
    {
     "name": "stdout",
     "output_type": "stream",
     "text": [
      "Overwriting mi_paquete/subpaquete/modulo3.py\n"
     ]
    }
   ],
   "source": [
    "%%writefile mi_paquete/subpaquete/modulo3.py\n",
    "def function3():\n",
    "    return \"Función 3 desde modulo3.py\""
   ]
  },
  {
   "cell_type": "markdown",
   "id": "8641f091-86b9-4731-ae1f-d7bcd72609b1",
   "metadata": {},
   "source": [
    "**Importar el paquete como lo hacemos con los módulos principales.**"
   ]
  },
  {
   "cell_type": "code",
   "execution_count": 33,
   "id": "19e08396-3539-4c9d-81b6-19749f07a853",
   "metadata": {},
   "outputs": [
    {
     "name": "stdout",
     "output_type": "stream",
     "text": [
      "Función 3 desde modulo2.py\n"
     ]
    }
   ],
   "source": [
    "from mi_paquete.subpaquete import modulo3\n",
    "\n",
    "print(modulo3.function3())"
   ]
  },
  {
   "cell_type": "markdown",
   "id": "f05f6652-8a4e-4269-915f-42b40ceace83",
   "metadata": {},
   "source": [
    "## 3. ARCHIVOS TXT\n",
    "\n",
    "En Python, trabajar con archivos de texto(archivos.txt) es una tarea común que se realiza usando funciones nativas. Los archivos se pueden abrir para leer, escribir o realizar ambas operaciones."
   ]
  },
  {
   "cell_type": "markdown",
   "id": "5e16cc2d-4572-456f-ab34-a326947a5ced",
   "metadata": {},
   "source": [
    "### **a) Abrir un archivo**\n",
    "\n",
    "La función principal para trabajar con archivos es ***open()***."
   ]
  },
  {
   "cell_type": "code",
   "execution_count": 37,
   "id": "7a93d8f4-b979-44ab-be3f-81d6afc10a90",
   "metadata": {},
   "outputs": [
    {
     "data": {
      "text/plain": [
       "<_io.TextIOWrapper name='materiales/archivo.txt' mode='r' encoding='UTF-8'>"
      ]
     },
     "execution_count": 37,
     "metadata": {},
     "output_type": "execute_result"
    }
   ],
   "source": [
    "open('materiales/archivo.txt')"
   ]
  },
  {
   "cell_type": "markdown",
   "id": "433c108f-91d6-4e77-978e-7e9f452b9538",
   "metadata": {},
   "source": [
    "**Modos comunes:**\n",
    "* ***r:*** Leer(read).\n",
    "* ***w:*** Escribir(write).\n",
    "* ***a:*** Agregar(append).\n",
    "* ***r+:*** Leer y escribir.\n",
    "* ***w+:*** Escribir y leer(sobrescribe el archivo).\n",
    "* ***a+:*** Leer y agregar texto final."
   ]
  },
  {
   "cell_type": "markdown",
   "id": "510877a8-1750-426d-9abd-ff840166e567",
   "metadata": {},
   "source": [
    "### **b) Operaciones básicas**"
   ]
  },
  {
   "cell_type": "markdown",
   "id": "5f27e1bb-56db-4e16-b167-1e78585c26c1",
   "metadata": {},
   "source": [
    "* **LEER UN ARCHIVO**\n",
    "  \n",
    "    1. Leer todo el archivo\n",
    "    2. Leer línea por linea\n",
    "    3. Leer líneas como listas."
   ]
  },
  {
   "cell_type": "code",
   "execution_count": 44,
   "id": "0a330718-f602-43e5-afe4-7e7b2e621295",
   "metadata": {},
   "outputs": [
    {
     "name": "stdout",
     "output_type": "stream",
     "text": [
      "Archivo TXT creado...\n",
      "\n",
      "MESSI GOAT!!! JAAJAJ\n"
     ]
    }
   ],
   "source": [
    "# Lectura de todo el archivo\n",
    "\n",
    "with open('materiales/archivo.txt', 'r') as archivo:\n",
    "    contenido = archivo.read()\n",
    "    print(contenido)"
   ]
  },
  {
   "cell_type": "code",
   "execution_count": 45,
   "id": "c520d902-d371-4a3d-9004-32559904108b",
   "metadata": {},
   "outputs": [
    {
     "name": "stdout",
     "output_type": "stream",
     "text": [
      "Archivo TXT creado...\n",
      "\n",
      "MESSI GOAT!!! JAAJAJ\n"
     ]
    }
   ],
   "source": [
    "# Leer linea por linea\n",
    "\n",
    "with open('materiales/archivo.txt', 'r') as archivo:\n",
    "    for linea in archivo:\n",
    "        print(linea.strip())"
   ]
  },
  {
   "cell_type": "code",
   "execution_count": 46,
   "id": "112413c3-68cd-4e81-80a9-ea2ea2b61610",
   "metadata": {},
   "outputs": [
    {
     "name": "stdout",
     "output_type": "stream",
     "text": [
      "['Archivo TXT creado...\\n', '\\n', 'MESSI GOAT!!! JAAJAJ']\n"
     ]
    }
   ],
   "source": [
    "# Leer líneas como lista\n",
    "\n",
    "with open('materiales/archivo.txt', 'r') as archivo:\n",
    "    lineas = archivo.readlines()\n",
    "    print(lineas)"
   ]
  },
  {
   "cell_type": "markdown",
   "id": "e9783726-fb71-4c73-a79a-08b817ec3ebc",
   "metadata": {},
   "source": [
    "* **ESCRIBIR UN ARCHIVO**\n",
    "\n",
    "    1. Sobrescribir el archivo.\n",
    "    2. Agregar contenido sin sobrescribir."
   ]
  },
  {
   "cell_type": "code",
   "execution_count": 2,
   "id": "101d248c-9b23-4193-bd90-7ae5abe2d894",
   "metadata": {},
   "outputs": [],
   "source": [
    "# Sobreescribir un archivo\n",
    "\n",
    "with open('materiales/archivo.txt', 'w') as archivo:\n",
    "    archivo.write('Primera linea \\n')\n",
    "    archivo.write('Segunda Linea \\n')"
   ]
  },
  {
   "cell_type": "code",
   "execution_count": 3,
   "id": "d58efc1e-e267-4000-861e-b5b6b5a98428",
   "metadata": {},
   "outputs": [
    {
     "name": "stdout",
     "output_type": "stream",
     "text": [
      "Primera linea \n",
      "Segunda Linea \n",
      "\n"
     ]
    }
   ],
   "source": [
    "# Lectura de todo el archivo\n",
    "\n",
    "with open('materiales/archivo.txt', 'r') as archivo:\n",
    "    contenido = archivo.read()\n",
    "    print(contenido)"
   ]
  },
  {
   "cell_type": "code",
   "execution_count": 4,
   "id": "7e6fbf56-1962-4b6d-8597-dc267e02e5d7",
   "metadata": {},
   "outputs": [],
   "source": [
    "# Agregar contenido sin sobreescribir\n",
    "\n",
    "with open('materiales/archivo.txt', 'a') as archivo:\n",
    "    archivo.write('Linea adicional \\n')"
   ]
  },
  {
   "cell_type": "code",
   "execution_count": 5,
   "id": "1cb2316f-8ba0-481f-86cf-f5fe54cd6ede",
   "metadata": {},
   "outputs": [
    {
     "name": "stdout",
     "output_type": "stream",
     "text": [
      "Primera linea \n",
      "Segunda Linea \n",
      "Linea adicional \n",
      "\n"
     ]
    }
   ],
   "source": [
    "# Lectura de todo el archivo\n",
    "\n",
    "with open('materiales/archivo.txt', 'r') as archivo:\n",
    "    contenido = archivo.read()\n",
    "    print(contenido)"
   ]
  },
  {
   "cell_type": "markdown",
   "id": "d585d0c1-6ac7-4a85-aebf-fe7c965b8749",
   "metadata": {},
   "source": [
    "* **LEER Y ESCRIBIR UN ARCHIVO**"
   ]
  },
  {
   "cell_type": "code",
   "execution_count": 8,
   "id": "6081f067-edbf-4c56-bf28-924aa00f6e52",
   "metadata": {},
   "outputs": [
    {
     "name": "stdout",
     "output_type": "stream",
     "text": [
      "Primera linea \n",
      "Segunda Linea \n",
      "Linea adicional \n",
      "\n",
      " Es una nueva linea despues de la lectura. \n",
      " Es una nueva linea despues de la lectura. \n"
     ]
    }
   ],
   "source": [
    "with open('materiales/archivo.txt', '+r') as archivo:\n",
    "    contenido = archivo.read()\n",
    "    archivo.write(\"\\n Es una nueva linea despues de la lectura. \")\n",
    "    print(contenido)"
   ]
  },
  {
   "cell_type": "markdown",
   "id": "7768b701-665f-4af4-be9e-94c5b817e53d",
   "metadata": {},
   "source": [
    "### **c) Buscar y reemplazar texto**"
   ]
  },
  {
   "cell_type": "code",
   "execution_count": 10,
   "id": "458614c1-0304-4c76-b32f-b61b5194a6ec",
   "metadata": {},
   "outputs": [
    {
     "name": "stdout",
     "output_type": "stream",
     "text": [
      "Primera linea \n",
      "Segunda Linea \n",
      "Linea adicional \n",
      "\n",
      " Es una nueva linea despues de la lectura. \n",
      " Es una nueva linea despues de la lectura. \n",
      " Es una nueva linea despues de la lectura. \n"
     ]
    }
   ],
   "source": [
    "with open('materiales/archivo.txt', '+r') as archivo:\n",
    "    contenido = archivo.read()\n",
    "    cntenido = contenido.replace(\"antiguo\", \"nuevo\")\n",
    "    archivo.seek(0)\n",
    "    archivo.write(contenido)\n",
    "    archivo.truncate\n",
    "    print(contenido)"
   ]
  },
  {
   "cell_type": "markdown",
   "id": "368e8a81-e2ea-4cd5-901c-a9a580dfe704",
   "metadata": {},
   "source": [
    "### **d) Eliminar o modificar líneas específicas**"
   ]
  },
  {
   "cell_type": "code",
   "execution_count": 12,
   "id": "b7f32530-694c-4c93-a596-3c631c633626",
   "metadata": {},
   "outputs": [
    {
     "name": "stdout",
     "output_type": "stream",
     "text": [
      "['Primera linea \\n', 'Segunda Linea \\n', 'Linea adicional \\n', '\\n']\n"
     ]
    }
   ],
   "source": [
    "with open('materiales/archivo.txt', 'r') as archivo:\n",
    "    lineas = archivo.readlines()\n",
    "\n",
    "with open('materiales/archivo.txt', 'w') as archivo:\n",
    "    for linea in lineas:\n",
    "        if \"Es una nueva linea despues de la lectura.\" not in linea:\n",
    "            archivo.write(linea)\n",
    "\n",
    "print(lineas)"
   ]
  },
  {
   "cell_type": "code",
   "execution_count": null,
   "id": "16833ad3-2273-4b2a-af68-2fbea7eab21b",
   "metadata": {},
   "outputs": [],
   "source": []
  }
 ],
 "metadata": {
  "kernelspec": {
   "display_name": "Python 3 (ipykernel)",
   "language": "python",
   "name": "python3"
  },
  "language_info": {
   "codemirror_mode": {
    "name": "ipython",
    "version": 3
   },
   "file_extension": ".py",
   "mimetype": "text/x-python",
   "name": "python",
   "nbconvert_exporter": "python",
   "pygments_lexer": "ipython3",
   "version": "3.9.20"
  }
 },
 "nbformat": 4,
 "nbformat_minor": 5
}
