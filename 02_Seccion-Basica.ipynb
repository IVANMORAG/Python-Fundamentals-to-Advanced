{
 "cells": [
  {
   "cell_type": "markdown",
   "id": "6d10bbfa-215d-4814-89bc-b7d424e13f50",
   "metadata": {},
   "source": [
    "# SECCIÓN BÁSICA"
   ]
  },
  {
   "cell_type": "markdown",
   "id": "385dfc6a-e0ec-4629-b14d-4845d8232ed0",
   "metadata": {},
   "source": [
    "## 1. MÉTODOS DE CADENAS \n",
    "\n",
    "las cadenas de texto(strings) tienen varios métodos incorporados que permiten manipularlas de diversas maneras."
   ]
  },
  {
   "cell_type": "markdown",
   "id": "928c32a3-c3fe-49ad-a2c7-1931fcb670f4",
   "metadata": {},
   "source": [
    "### **a) Métodos para manipulación básica**"
   ]
  },
  {
   "cell_type": "markdown",
   "id": "203d8c6e-b451-4208-baec-44b0be707d92",
   "metadata": {},
   "source": [
    "* **lower():**\n",
    "Convierte todas los catacteres de la cadena a minúsculas."
   ]
  },
  {
   "cell_type": "code",
   "execution_count": 1,
   "id": "8aa43de5-6755-47ef-90e6-0dc44f98feef",
   "metadata": {},
   "outputs": [
    {
     "name": "stdout",
     "output_type": "stream",
     "text": [
      "hola mundo\n"
     ]
    }
   ],
   "source": [
    "#DEFINIMOS LA VARIABLE \n",
    "variable = \"Hola mundo\"\n",
    "\n",
    "# APLICAMOS LA FUNCIÓN AL VALOR DE LA VARIABLE\n",
    "variable2 = variable.lower()\n",
    "\n",
    "# IMPRIMOS \n",
    "print(variable2)"
   ]
  },
  {
   "cell_type": "markdown",
   "id": "0373375f-2371-4a7b-b761-73613d9d1144",
   "metadata": {},
   "source": [
    "* **upper():** Convierte todos los caracters de la cadena a mayúscula."
   ]
  },
  {
   "cell_type": "code",
   "execution_count": 2,
   "id": "00f9e1bd-641a-4fcd-b6b2-4b0d92845e8e",
   "metadata": {},
   "outputs": [
    {
     "name": "stdout",
     "output_type": "stream",
     "text": [
      "HOLA MUNDO\n"
     ]
    }
   ],
   "source": [
    "variable2 = variable.upper()\n",
    "\n",
    "print(variable2)"
   ]
  },
  {
   "cell_type": "markdown",
   "id": "25682c7b-53c2-43ed-ba38-235a6164dc29",
   "metadata": {},
   "source": [
    "* **capitalize():** Convierte el primer carácter a mayúscula y el resto a minúsculas."
   ]
  },
  {
   "cell_type": "code",
   "execution_count": 3,
   "id": "5b8ba121-baf7-4d78-9e87-c6f64044de8d",
   "metadata": {},
   "outputs": [
    {
     "name": "stdout",
     "output_type": "stream",
     "text": [
      "Hola mundo\n"
     ]
    }
   ],
   "source": [
    "variable2 = variable.capitalize()\n",
    "\n",
    "print(variable2)"
   ]
  },
  {
   "cell_type": "markdown",
   "id": "3842ec17-b9eb-43fa-9f0b-d54f4990c125",
   "metadata": {},
   "source": [
    "* **title():** Convierte la primera letra de cada palabra en mayúscula."
   ]
  },
  {
   "cell_type": "code",
   "execution_count": 4,
   "id": "b7733e29-982c-4b0c-9494-31943c9f9fe4",
   "metadata": {},
   "outputs": [
    {
     "name": "stdout",
     "output_type": "stream",
     "text": [
      "Hola Mundo\n"
     ]
    }
   ],
   "source": [
    "variable2 = variable.title()\n",
    "\n",
    "print(variable2)"
   ]
  },
  {
   "cell_type": "markdown",
   "id": "059c8b8c-7d37-4671-80b0-fa341cc2a241",
   "metadata": {},
   "source": [
    "* **strip():** Elimina los espacios en blanco del inicio y al final de la cadena."
   ]
  },
  {
   "cell_type": "code",
   "execution_count": 5,
   "id": "6358d1fd-e4f4-4727-a390-98e7bdbc0fee",
   "metadata": {},
   "outputs": [
    {
     "data": {
      "text/plain": [
       "'Eliminar espacios'"
      ]
     },
     "execution_count": 5,
     "metadata": {},
     "output_type": "execute_result"
    }
   ],
   "source": [
    "\"    Eliminar espacios   \".strip()"
   ]
  },
  {
   "cell_type": "markdown",
   "id": "23bec8a2-0971-400e-9030-9a1fdbda92ec",
   "metadata": {},
   "source": [
    "* **replace(old, new)):** Reemplaza todas las ocurrencias de una subcadena 'old' por una subcadena 'new'."
   ]
  },
  {
   "cell_type": "code",
   "execution_count": 6,
   "id": "67082632-7354-4d4c-8b26-90c61eff79c0",
   "metadata": {},
   "outputs": [
    {
     "name": "stdout",
     "output_type": "stream",
     "text": [
      "Hola Programador\n"
     ]
    }
   ],
   "source": [
    "variable2 = variable.replace(\"mundo\", \"Programador\")\n",
    "\n",
    "print(variable2)"
   ]
  },
  {
   "cell_type": "markdown",
   "id": "308e7bec-4a41-4d21-9e2b-08005e442cf0",
   "metadata": {},
   "source": [
    "### **b) Métodos para búsqueda y comprobación**"
   ]
  },
  {
   "cell_type": "markdown",
   "id": "4a2568b0-72ba-46d6-b506-09f77ef583dd",
   "metadata": {},
   "source": [
    "* **find(substring):** Busca la subcadena y devuelve el índice de la primera aparición. Si no se encuentra, devuelve ***-1***"
   ]
  },
  {
   "cell_type": "code",
   "execution_count": 7,
   "id": "04bde7d3-3fb1-454b-9d0b-a766a5125963",
   "metadata": {},
   "outputs": [
    {
     "name": "stdout",
     "output_type": "stream",
     "text": [
      "0\n"
     ]
    }
   ],
   "source": [
    "busqueda = \"Busqueda y comprobacion\"\n",
    "\n",
    "busqueda2 = busqueda.find(\"Busqueda\")\n",
    "\n",
    "print(busqueda2)"
   ]
  },
  {
   "cell_type": "markdown",
   "id": "401fa941-5391-4915-9ff1-214da03c60af",
   "metadata": {},
   "source": [
    "* **count(substring):** Cuenta cuántas veces aparece una subcadena en la cadena."
   ]
  },
  {
   "cell_type": "code",
   "execution_count": 8,
   "id": "a0050ec5-029b-4c1d-a17c-c92f4f3a40b6",
   "metadata": {},
   "outputs": [
    {
     "name": "stdout",
     "output_type": "stream",
     "text": [
      "2\n"
     ]
    }
   ],
   "source": [
    "busqueda2 = busqueda.count(\"a\")\n",
    "\n",
    "print(busqueda2)"
   ]
  },
  {
   "cell_type": "markdown",
   "id": "efeb8999-6136-4b0e-849f-97698662906f",
   "metadata": {},
   "source": [
    "* **startswith(prefix):** Devuelve ***True***  si la cadena comienza con el prefijo dado, de lo contrario, ***False***."
   ]
  },
  {
   "cell_type": "code",
   "execution_count": 9,
   "id": "c3ae43e3-12e8-46f2-95b9-4ff6307e915e",
   "metadata": {},
   "outputs": [
    {
     "name": "stdout",
     "output_type": "stream",
     "text": [
      "False\n"
     ]
    }
   ],
   "source": [
    "busqueda2 = busqueda.startswith(\"H\")\n",
    "\n",
    "print(busqueda2)"
   ]
  },
  {
   "cell_type": "markdown",
   "id": "c4835fd5-69a9-4537-8cc5-7b266386cc9c",
   "metadata": {},
   "source": [
    "* **endswith():** Devuelve ***True*** si la cadena termina con el sufrijo dado, de lo contrario será ***False***."
   ]
  },
  {
   "cell_type": "code",
   "execution_count": 10,
   "id": "2187a4e3-4ab9-475f-aafe-ec5baec861e5",
   "metadata": {},
   "outputs": [
    {
     "data": {
      "text/plain": [
       "True"
      ]
     },
     "execution_count": 10,
     "metadata": {},
     "output_type": "execute_result"
    }
   ],
   "source": [
    "busqueda2 = busqueda.endswith(\"n\")\n",
    "\n",
    "busqueda2"
   ]
  },
  {
   "cell_type": "markdown",
   "id": "971e474b-cb5b-47fa-98ef-b7ac3fc50562",
   "metadata": {},
   "source": [
    "* **isalpha():** Devuelve ***True*** si todos los caracteres de la cadena son letras, de los contrario será ***False***."
   ]
  },
  {
   "cell_type": "code",
   "execution_count": 11,
   "id": "4820e39b-6023-4801-98bd-b44322841d50",
   "metadata": {},
   "outputs": [
    {
     "data": {
      "text/plain": [
       "False"
      ]
     },
     "execution_count": 11,
     "metadata": {},
     "output_type": "execute_result"
    }
   ],
   "source": [
    "busqueda2 = busqueda.isalpha()\n",
    "busqueda2"
   ]
  },
  {
   "cell_type": "markdown",
   "id": "89d4a75a-55c5-44e7-8bb7-b76fad0229be",
   "metadata": {},
   "source": [
    "* **isdigit():** Devuelve ***True*** si todos los caracteres de la cadena son dígitos númericos, de los contrario, ***False***."
   ]
  },
  {
   "cell_type": "code",
   "execution_count": 12,
   "id": "2e376f5d-be5a-4519-a989-59fda539537b",
   "metadata": {},
   "outputs": [
    {
     "data": {
      "text/plain": [
       "False"
      ]
     },
     "execution_count": 12,
     "metadata": {},
     "output_type": "execute_result"
    }
   ],
   "source": [
    "busqueda2 = busqueda.isdigit()\n",
    "busqueda2"
   ]
  },
  {
   "cell_type": "markdown",
   "id": "0c949827-6438-4079-86c3-bb9f156a3e37",
   "metadata": {},
   "source": [
    "* **isspace():** Devuelve ***True*** si todos los caracteres en la cadena son espacios en blanco."
   ]
  },
  {
   "cell_type": "code",
   "execution_count": 13,
   "id": "de6dd711-b913-47db-8615-785ca37247c4",
   "metadata": {},
   "outputs": [
    {
     "data": {
      "text/plain": [
       "False"
      ]
     },
     "execution_count": 13,
     "metadata": {},
     "output_type": "execute_result"
    }
   ],
   "source": [
    "busqueda2 = busqueda.isspace()\n",
    "busqueda2"
   ]
  },
  {
   "cell_type": "markdown",
   "id": "2ebb220f-6e2a-429c-8cd9-6e6b761c5e97",
   "metadata": {},
   "source": [
    "### **c) Métodos para formateo**"
   ]
  },
  {
   "cell_type": "markdown",
   "id": "d4df3326-9c83-45d3-8849-755ab1a5b3b3",
   "metadata": {},
   "source": [
    "* **f\"texto {variable}\":** Usando f-strings, puedes insertar variables dentro de una cadena de manera sencilla"
   ]
  },
  {
   "cell_type": "code",
   "execution_count": 14,
   "id": "69309222-60cc-4097-a8de-59b12c99e11c",
   "metadata": {},
   "outputs": [
    {
     "data": {
      "text/plain": [
       "'Hola, Iván'"
      ]
     },
     "execution_count": 14,
     "metadata": {},
     "output_type": "execute_result"
    }
   ],
   "source": [
    "nombre = \"Iván\"\n",
    "f\"Hola, {nombre}\""
   ]
  },
  {
   "cell_type": "markdown",
   "id": "070dbbf1-ae8e-47b9-b8c3-4f70131d0dd8",
   "metadata": {},
   "source": [
    "* **format():** Permite formatear cadenas con valores dinámicos."
   ]
  },
  {
   "cell_type": "code",
   "execution_count": 15,
   "id": "2fc7ca03-d3f5-4b0f-802e-20a9066150ca",
   "metadata": {},
   "outputs": [
    {
     "data": {
      "text/plain": [
       "'Hola, Iván'"
      ]
     },
     "execution_count": 15,
     "metadata": {},
     "output_type": "execute_result"
    }
   ],
   "source": [
    "\"Hola, {}\".format(\"Iván\")"
   ]
  },
  {
   "cell_type": "markdown",
   "id": "9fa98daa-e248-456e-ac78-1ea90e645acf",
   "metadata": {},
   "source": [
    "## 2. MÉTODOS DE LISTAS\n",
    "\n",
    "En Python, las listas tienen muchos métodos útiles para manipular, modificar y acceder a sus elementos."
   ]
  },
  {
   "cell_type": "markdown",
   "id": "46008080-1455-4ed6-b00d-81a71fb335ed",
   "metadata": {},
   "source": [
    "### **a) Métodos básicos para modificación**"
   ]
  },
  {
   "cell_type": "markdown",
   "id": "9aec086d-93b8-4af8-a9a6-4c8dc9e5b59d",
   "metadata": {},
   "source": [
    "+ **append():** Agrega un elemento al final de la lista."
   ]
  },
  {
   "cell_type": "code",
   "execution_count": 16,
   "id": "a742b675-ae95-4b80-9651-ef317e43def0",
   "metadata": {},
   "outputs": [
    {
     "data": {
      "text/plain": [
       "[1, 2, 3, 10]"
      ]
     },
     "execution_count": 16,
     "metadata": {},
     "output_type": "execute_result"
    }
   ],
   "source": [
    "lista = [1, 2, 3]\n",
    "\n",
    "lista.append(10)\n",
    "lista"
   ]
  },
  {
   "cell_type": "markdown",
   "id": "fe365e6e-06b9-4f3e-a62d-30ff1aaf24d1",
   "metadata": {},
   "source": [
    "* **extend():** Agrega varios elementos de un iterable al final de la lista."
   ]
  },
  {
   "cell_type": "code",
   "execution_count": 17,
   "id": "b1b4d63f-1724-4353-a3e3-7c124a124418",
   "metadata": {},
   "outputs": [
    {
     "data": {
      "text/plain": [
       "[1, 2, 3, 10, 20, 30]"
      ]
     },
     "execution_count": 17,
     "metadata": {},
     "output_type": "execute_result"
    }
   ],
   "source": [
    "lista.extend([20, 30])\n",
    "lista"
   ]
  },
  {
   "cell_type": "markdown",
   "id": "b024f6ee-3a51-4202-b775-37536864ecc6",
   "metadata": {},
   "source": [
    "* **insert():**  Inserta un elemento en una posición específica, desplazando los elementos hacía la derecha."
   ]
  },
  {
   "cell_type": "code",
   "execution_count": 18,
   "id": "2324573a-7583-4051-b2d6-b2a6b3f2db92",
   "metadata": {},
   "outputs": [
    {
     "data": {
      "text/plain": [
       "[21, 1, 2, 3, 10, 20, 30]"
      ]
     },
     "execution_count": 18,
     "metadata": {},
     "output_type": "execute_result"
    }
   ],
   "source": [
    "lista.insert(0, 21)\n",
    "lista"
   ]
  },
  {
   "cell_type": "markdown",
   "id": "9710fe7d-0206-49e0-b1ee-fe360631c5f6",
   "metadata": {},
   "source": [
    "* **remove():** Elimina la primera aparición de un elemento en la lista. Si el elemento no existe, lanza un error."
   ]
  },
  {
   "cell_type": "code",
   "execution_count": 19,
   "id": "337604b3-3b66-4a3e-91f1-6d34aae0b710",
   "metadata": {},
   "outputs": [
    {
     "data": {
      "text/plain": [
       "[21, 1, 2, 3, 10, 30]"
      ]
     },
     "execution_count": 19,
     "metadata": {},
     "output_type": "execute_result"
    }
   ],
   "source": [
    "lista.remove(20)\n",
    "lista"
   ]
  },
  {
   "cell_type": "markdown",
   "id": "57949d74-57af-49bb-a482-3f21112ce356",
   "metadata": {},
   "source": [
    "* **pop():** Elimina y devuelve el elemento en el índice dado. Si no se especifíca, elimina el último elemento."
   ]
  },
  {
   "cell_type": "code",
   "execution_count": 20,
   "id": "b01e5b2a-0b66-4312-ab36-e994597ea2e8",
   "metadata": {},
   "outputs": [
    {
     "data": {
      "text/plain": [
       "30"
      ]
     },
     "execution_count": 20,
     "metadata": {},
     "output_type": "execute_result"
    }
   ],
   "source": [
    "lista.pop()"
   ]
  },
  {
   "cell_type": "markdown",
   "id": "20256e68-3f05-4613-9b7c-3cd83d96eda2",
   "metadata": {},
   "source": [
    "* **clear():** Elimina todos los elementos de la lista, dejándola vacía."
   ]
  },
  {
   "cell_type": "code",
   "execution_count": 21,
   "id": "8c5648e5-b0d0-4a41-bec4-2a446b9f471f",
   "metadata": {},
   "outputs": [
    {
     "data": {
      "text/plain": [
       "[]"
      ]
     },
     "execution_count": 21,
     "metadata": {},
     "output_type": "execute_result"
    }
   ],
   "source": [
    "lista.clear()\n",
    "lista"
   ]
  },
  {
   "cell_type": "markdown",
   "id": "f1834240-65c0-4a23-b224-70195933b94d",
   "metadata": {},
   "source": [
    "### **b) Métodos para búsqueda y conteo**"
   ]
  },
  {
   "cell_type": "markdown",
   "id": "b97b60d5-12ca-4eeb-a1cb-be16987d68cd",
   "metadata": {},
   "source": [
    "* **index(item, start, end):** Devuelve el índice de la primera aparición de un elemento entre los índices ***start*** y ***end***. Si el elemento no se encuentra, lanza un error."
   ]
  },
  {
   "cell_type": "code",
   "execution_count": 22,
   "id": "c5323f23-4a48-49d4-bd25-96fb5704b99d",
   "metadata": {},
   "outputs": [
    {
     "data": {
      "text/plain": [
       "1"
      ]
     },
     "execution_count": 22,
     "metadata": {},
     "output_type": "execute_result"
    }
   ],
   "source": [
    "lista = [1, 2, 3, 2]\n",
    "lista.index(2)"
   ]
  },
  {
   "cell_type": "markdown",
   "id": "d848854c-41b6-430a-a3fc-9c7aa7a93997",
   "metadata": {},
   "source": [
    "* **count():** Devuelve el número de veces que un elemento aparece en la lista."
   ]
  },
  {
   "cell_type": "code",
   "execution_count": 23,
   "id": "daa6da8b-6dee-4605-970c-987ba6d9f31d",
   "metadata": {},
   "outputs": [
    {
     "data": {
      "text/plain": [
       "2"
      ]
     },
     "execution_count": 23,
     "metadata": {},
     "output_type": "execute_result"
    }
   ],
   "source": [
    "lista = [1, 2, 3, 2]\n",
    "lista.count(2)"
   ]
  },
  {
   "cell_type": "markdown",
   "id": "61bd9e73-6af7-42c5-b0e2-ac6eb7c07c90",
   "metadata": {},
   "source": [
    "### **c) Métodos para ordenar y reversar**"
   ]
  },
  {
   "cell_type": "markdown",
   "id": "542e74f8-e5ea-4992-801e-de16216fe0dd",
   "metadata": {},
   "source": [
    "* **sort(key, reverse):** Ordena los elementos de la lista en su lugar. Se puede especificar un ***key*** (función) y ***reverse=True*** para ordenar en orden descendente."
   ]
  },
  {
   "cell_type": "code",
   "execution_count": 28,
   "id": "4134cf74-e16b-420a-a212-7c8c17d68d79",
   "metadata": {},
   "outputs": [
    {
     "data": {
      "text/plain": [
       "[3, 2, 1]"
      ]
     },
     "execution_count": 28,
     "metadata": {},
     "output_type": "execute_result"
    }
   ],
   "source": [
    "lista = [3, 1, 2]\n",
    "lista.sort()\n",
    "lista.sort(reverse=True)\n",
    "lista"
   ]
  },
  {
   "cell_type": "markdown",
   "id": "73e6a200-a7d9-4e22-a5cd-23bcd00fa1bb",
   "metadata": {},
   "source": [
    "* **sorted():** Devuelve una nueva lista ordenada sin modificar la original."
   ]
  },
  {
   "cell_type": "code",
   "execution_count": 30,
   "id": "b21a3ba7-dd1e-4709-a4aa-68f3c8021f2e",
   "metadata": {},
   "outputs": [
    {
     "data": {
      "text/plain": [
       "[1, 2, 3]"
      ]
     },
     "execution_count": 30,
     "metadata": {},
     "output_type": "execute_result"
    }
   ],
   "source": [
    "lista = [3, 1, 2]\n",
    "nueva_lista = sorted(lista)\n",
    "nueva_lista"
   ]
  },
  {
   "cell_type": "markdown",
   "id": "6452eb7d-cf83-497e-8e34-4620f005407c",
   "metadata": {},
   "source": [
    "* **reverse():** Invierte el orden de los elementos de la lista."
   ]
  },
  {
   "cell_type": "code",
   "execution_count": 32,
   "id": "192b4be2-2f73-4d68-9657-8272697e3d44",
   "metadata": {},
   "outputs": [
    {
     "data": {
      "text/plain": [
       "[3, 2, 1]"
      ]
     },
     "execution_count": 32,
     "metadata": {},
     "output_type": "execute_result"
    }
   ],
   "source": [
    "lista = [1, 2, 3]\n",
    "lista.reverse()\n",
    "lista"
   ]
  },
  {
   "cell_type": "markdown",
   "id": "6829e114-814b-4eb5-acb5-58eda17bc114",
   "metadata": {},
   "source": [
    "### **d) Otros métodos útiles**"
   ]
  },
  {
   "cell_type": "markdown",
   "id": "3e57f3c6-686a-4fff-998e-5c63daf61773",
   "metadata": {},
   "source": [
    "* **copy():** Devuelve una copia superficial de la lista(sin afectar la lista original)."
   ]
  },
  {
   "cell_type": "code",
   "execution_count": 33,
   "id": "32ad8137-7fe5-48c5-9e33-16410dcab8ff",
   "metadata": {},
   "outputs": [
    {
     "data": {
      "text/plain": [
       "[1, 3, 5]"
      ]
     },
     "execution_count": 33,
     "metadata": {},
     "output_type": "execute_result"
    }
   ],
   "source": [
    "lista = [1, 3, 5]\n",
    "copia = lista.copy()\n",
    "copia"
   ]
  },
  {
   "cell_type": "markdown",
   "id": "2ccea521-238b-42aa-9e76-a83322d6042b",
   "metadata": {},
   "source": [
    "* **len():** Aunque es un método, len() es una función muy útil que devuelve la cantidad de elementos en una lista."
   ]
  },
  {
   "cell_type": "code",
   "execution_count": 34,
   "id": "c7591575-8dde-4017-af1f-4aecd547a021",
   "metadata": {},
   "outputs": [
    {
     "data": {
      "text/plain": [
       "4"
      ]
     },
     "execution_count": 34,
     "metadata": {},
     "output_type": "execute_result"
    }
   ],
   "source": [
    "lista = [1, 4, 6, 5]\n",
    "len(lista)"
   ]
  },
  {
   "cell_type": "markdown",
   "id": "2c3123c7-d6d4-4186-a6f2-ca1016653a50",
   "metadata": {},
   "source": [
    "## 2. MÉTODOS DE DICCIONARIOS \n",
    "\n",
    "Los diccionarios (dict) son estructuras de datos que almacenan pares clave-valor. Los diccionarios tienen varios métodos útiles para manipular y acceder a sus elementos."
   ]
  },
  {
   "cell_type": "markdown",
   "id": "135b635c-ef2f-4a5c-ab6f-93ae5c76066f",
   "metadata": {},
   "source": [
    "### **a) Métodos para acceder a elementos**"
   ]
  },
  {
   "cell_type": "markdown",
   "id": "34db3777-c57e-4604-8e2c-d53c0eb53628",
   "metadata": {},
   "source": [
    "* **get(clave, valor_predeterminado):** Devuelve el valor asociado a una clave. Si la clave no existe, devuelve un valor predeterminado(por defecto None)."
   ]
  },
  {
   "cell_type": "code",
   "execution_count": 36,
   "id": "48cced39-1e24-4dfa-8ee3-c758d0250794",
   "metadata": {},
   "outputs": [
    {
     "data": {
      "text/plain": [
       "'Desconocido'"
      ]
     },
     "execution_count": 36,
     "metadata": {},
     "output_type": "execute_result"
    }
   ],
   "source": [
    "dic = {\"nombre\": \"Iván\", \"Edad\": 25}\n",
    "dic.get(\"nombre\")\n",
    "dic.get(\"ciudad\", \"Desconocido\")"
   ]
  },
  {
   "cell_type": "markdown",
   "id": "cd5ed760-762f-424d-a4b8-e82c93d5d1a2",
   "metadata": {},
   "source": [
    "* **keys():** Devuelve una vista de todas las claves del diccionario."
   ]
  },
  {
   "cell_type": "code",
   "execution_count": 38,
   "id": "2e8e0dc3-40e6-44f6-9de2-43c8a9f0473a",
   "metadata": {},
   "outputs": [
    {
     "data": {
      "text/plain": [
       "dict_keys(['nombre', 'edad'])"
      ]
     },
     "execution_count": 38,
     "metadata": {},
     "output_type": "execute_result"
    }
   ],
   "source": [
    "dic = {\"nombre\": \"Ivan\", \"edad\": 25}\n",
    "dic.keys()"
   ]
  },
  {
   "cell_type": "markdown",
   "id": "2dbccabc-2f0e-4da5-bc67-c6174de79830",
   "metadata": {},
   "source": [
    "* **items():** Devuelve una vista de pares clave-valor como tuplas, lo que permite iterar sobre el diccionario de forma sencilla. "
   ]
  },
  {
   "cell_type": "code",
   "execution_count": 39,
   "id": "b58928e9-6ae5-445d-bb84-53df408fc742",
   "metadata": {},
   "outputs": [
    {
     "data": {
      "text/plain": [
       "dict_items([('nombre', 'Iván'), ('edad', 21)])"
      ]
     },
     "execution_count": 39,
     "metadata": {},
     "output_type": "execute_result"
    }
   ],
   "source": [
    "dic = {\"nombre\": \"Iván\", \"edad\": 21}\n",
    "dic.items()"
   ]
  },
  {
   "cell_type": "markdown",
   "id": "5ece7351-fcf2-4784-a7b1-c4d51ab71c64",
   "metadata": {},
   "source": [
    "* **values():** Devuelve una vista de todos los valores del diccionario."
   ]
  },
  {
   "cell_type": "code",
   "execution_count": 40,
   "id": "7462344e-b384-4398-92c9-de78706a45df",
   "metadata": {},
   "outputs": [
    {
     "data": {
      "text/plain": [
       "dict_values(['Ivan', 21])"
      ]
     },
     "execution_count": 40,
     "metadata": {},
     "output_type": "execute_result"
    }
   ],
   "source": [
    "dic = {\"nombre\": \"Ivan\", \"edad\": 21}\n",
    "dic.values()"
   ]
  },
  {
   "cell_type": "markdown",
   "id": "51682582-f7aa-4346-a0cf-b9bba6b45d1d",
   "metadata": {},
   "source": [
    "### **b) Métodos para modficación**"
   ]
  },
  {
   "cell_type": "markdown",
   "id": "2a837e94-7d4a-458b-8f1f-a9c09346d034",
   "metadata": {},
   "source": [
    "* **update():** Actualiza el diccionario agregando pares clave-valor de otro diccionario. Si una clave ya existe, su valor será reemplazado."
   ]
  },
  {
   "cell_type": "code",
   "execution_count": 48,
   "id": "24d4fbe4-0331-499f-bbca-6b835b27f6be",
   "metadata": {},
   "outputs": [
    {
     "data": {
      "text/plain": [
       "{'nombre': 'Ivan', 'edad': 90, 'ciudad': 'Jilotepec'}"
      ]
     },
     "execution_count": 48,
     "metadata": {},
     "output_type": "execute_result"
    }
   ],
   "source": [
    "dic = {\"nombre\": \"Ivan\", \"edad\": 21}\n",
    "dic.update({\"edad\": 90,\"ciudad\": \"Jilotepec\"})\n",
    "dic"
   ]
  },
  {
   "cell_type": "markdown",
   "id": "5d3550d4-7469-4aae-9ec7-e7886b0adab4",
   "metadata": {},
   "source": [
    "* **setdefault(clave, valor):** Devuelve el valor de una clave si existe; si no, inserta la clave con el valor proporcionado y la devuelve."
   ]
  },
  {
   "cell_type": "code",
   "execution_count": 51,
   "id": "e62a43f8-0d48-44ac-9232-17da99b64e86",
   "metadata": {},
   "outputs": [
    {
     "data": {
      "text/plain": [
       "{'nombre': 'Ivan', 'edad': 21}"
      ]
     },
     "execution_count": 51,
     "metadata": {},
     "output_type": "execute_result"
    }
   ],
   "source": [
    "dic = {\"nombre\": \"Ivan\"}\n",
    "dic.setdefault(\"edad\", 21)\n",
    "dic"
   ]
  },
  {
   "cell_type": "markdown",
   "id": "23db4c71-d8de-4193-be40-8c1212f29ee8",
   "metadata": {},
   "source": [
    "* **pop():** Elimina una clave y devuelve su valor. Si la clave no existe, devuelve el valor predeterminado; si no se proporciona, lanza un error."
   ]
  },
  {
   "cell_type": "code",
   "execution_count": 52,
   "id": "c76cde21-7c89-46bf-89c6-1dfdbf6de20a",
   "metadata": {},
   "outputs": [
    {
     "data": {
      "text/plain": [
       "{'nombre': 'Ivan'}"
      ]
     },
     "execution_count": 52,
     "metadata": {},
     "output_type": "execute_result"
    }
   ],
   "source": [
    "dic = {\"nombre\": \"Ivan\", \"edad\": 21}\n",
    "dic.pop(\"edad\")\n",
    "dic"
   ]
  },
  {
   "cell_type": "markdown",
   "id": "56d12da2-7089-4bd1-a9c0-1dea479175f1",
   "metadata": {},
   "source": [
    "* **popitem():** Elimina y devuelve el último par clave-valor añadido al diccionario como una tupla."
   ]
  },
  {
   "cell_type": "code",
   "execution_count": 53,
   "id": "865f064d-3242-4d30-9930-9ae3dbf46cc2",
   "metadata": {},
   "outputs": [
    {
     "data": {
      "text/plain": [
       "{'nombre': 'Ivan'}"
      ]
     },
     "execution_count": 53,
     "metadata": {},
     "output_type": "execute_result"
    }
   ],
   "source": [
    "dic = {\"nombre\": \"Ivan\", \"edad\": 21}\n",
    "dic.popitem()\n",
    "dic"
   ]
  },
  {
   "cell_type": "markdown",
   "id": "f03c6910-6134-4df5-8006-9fd6ede08ff1",
   "metadata": {},
   "source": [
    "* **clear():** Elimina todos los elementos del diccionario, dejándolo vacío."
   ]
  },
  {
   "cell_type": "code",
   "execution_count": 56,
   "id": "6947c57b-dfd3-45b7-ab98-fbc1e37804cb",
   "metadata": {},
   "outputs": [
    {
     "data": {
      "text/plain": [
       "{}"
      ]
     },
     "execution_count": 56,
     "metadata": {},
     "output_type": "execute_result"
    }
   ],
   "source": [
    "dic = {\"nombre\": \"Ivan\", \"edad\": 21}\n",
    "dic.clear() \n",
    "dic"
   ]
  },
  {
   "cell_type": "markdown",
   "id": "08dec5b4-e198-43b4-89c5-b64bcd00295b",
   "metadata": {},
   "source": [
    "### **c) Métodos para copias**"
   ]
  },
  {
   "cell_type": "markdown",
   "id": "a422c9c3-7c2e-48cf-9702-f7b040c8f01a",
   "metadata": {},
   "source": [
    "* **copy():** Devuelve una copia del diccionario."
   ]
  },
  {
   "cell_type": "code",
   "execution_count": 57,
   "id": "ec8ee43e-85a0-4b44-8a0c-e04d9246fdc1",
   "metadata": {},
   "outputs": [
    {
     "data": {
      "text/plain": [
       "{'nombre': 'Ivan', 'edad': 21}"
      ]
     },
     "execution_count": 57,
     "metadata": {},
     "output_type": "execute_result"
    }
   ],
   "source": [
    "dic = {\"nombre\": \"Ivan\", \"edad\": 21}\n",
    "dic.copy\n",
    "dic"
   ]
  },
  {
   "cell_type": "markdown",
   "id": "e4fd74f0-4e8d-425f-b344-798310dd39ae",
   "metadata": {},
   "source": [
    "## 3. ENTRADA DE DATOS (INPUTS)"
   ]
  },
  {
   "cell_type": "markdown",
   "id": "5979c824-e25d-45bb-a0bf-59f47729438f",
   "metadata": {},
   "source": [
    "### **a) Entrada de texto**"
   ]
  },
  {
   "cell_type": "code",
   "execution_count": 58,
   "id": "d2572603-8d4a-410b-a026-ff7132e95cf2",
   "metadata": {},
   "outputs": [
    {
     "name": "stdin",
     "output_type": "stream",
     "text": [
      "¿Cuál es tu nombre? Iván \n"
     ]
    },
    {
     "name": "stdout",
     "output_type": "stream",
     "text": [
      "Hola, Iván \n"
     ]
    }
   ],
   "source": [
    "nombre = input(\"¿Cuál es tu nombre?\")\n",
    "print(\"Hola, \" + nombre)"
   ]
  },
  {
   "cell_type": "markdown",
   "id": "8dd7ad1c-17c6-4e22-90ef-b1527e1a56b3",
   "metadata": {},
   "source": [
    "### **b) Entrada de números**\n",
    "\n",
    "Para obtener números, debes de convertir la entrada usando ***int()*** o ***float()***, ya que ***input()*** devulve cadenas."
   ]
  },
  {
   "cell_type": "code",
   "execution_count": 59,
   "id": "4157e0d5-b124-495a-8fce-044d90ddfa3f",
   "metadata": {},
   "outputs": [
    {
     "name": "stdin",
     "output_type": "stream",
     "text": [
      "¿Cuantos años tienes? 21\n"
     ]
    },
    {
     "name": "stdout",
     "output_type": "stream",
     "text": [
      "Tienes 21 años\n"
     ]
    }
   ],
   "source": [
    "edad = int(input(\"¿Cuantos años tienes?\"))\n",
    "print(\"Tienes\", edad, \"años\")"
   ]
  },
  {
   "cell_type": "markdown",
   "id": "86df3ca6-39ff-4057-85b1-4b57a92c47f1",
   "metadata": {},
   "source": [
    "### **c) Entrada de múltiples valores**\n",
    "\n",
    "Puedes usar ***split()*** se usa split para dividir la entrada en partes."
   ]
  },
  {
   "cell_type": "code",
   "execution_count": 62,
   "id": "d2b2dcb0-3d7f-4469-84fc-f378d540faa8",
   "metadata": {},
   "outputs": [
    {
     "name": "stdin",
     "output_type": "stream",
     "text": [
      "Ingresa dos números separados por espacios:  2 4\n"
     ]
    },
    {
     "name": "stdout",
     "output_type": "stream",
     "text": [
      "La suma es:  6\n"
     ]
    }
   ],
   "source": [
    "x, y = input(\"Ingresa dos números separados por espacios: \").split()\n",
    "\n",
    "x = int(x)\n",
    "y = int(y)\n",
    "\n",
    "print(\"La suma es: \", x+y)"
   ]
  },
  {
   "cell_type": "markdown",
   "id": "2e6946f0-8be9-4714-b621-f240d700e11d",
   "metadata": {},
   "source": [
    "### **d) Entrada con lista**"
   ]
  },
  {
   "cell_type": "code",
   "execution_count": 64,
   "id": "b894f3de-c765-43f9-8017-47e54bd63caa",
   "metadata": {},
   "outputs": [
    {
     "name": "stdin",
     "output_type": "stream",
     "text": [
      "Ingresa varios números separados por espacio: 2 4 5 6 7 \n"
     ]
    },
    {
     "name": "stdout",
     "output_type": "stream",
     "text": [
      "Los números son:  [2, 4, 5, 6, 7]\n"
     ]
    }
   ],
   "source": [
    "numeros = list(map(int, input(\"Ingresa varios números separados por espacio:\").split()))\n",
    "print(\"Los números son: \", numeros)"
   ]
  },
  {
   "cell_type": "code",
   "execution_count": null,
   "id": "f5551a56-c87a-46c0-aeb8-163c3757ef30",
   "metadata": {},
   "outputs": [],
   "source": []
  }
 ],
 "metadata": {
  "kernelspec": {
   "display_name": "Python 3 (ipykernel)",
   "language": "python",
   "name": "python3"
  },
  "language_info": {
   "codemirror_mode": {
    "name": "ipython",
    "version": 3
   },
   "file_extension": ".py",
   "mimetype": "text/x-python",
   "name": "python",
   "nbconvert_exporter": "python",
   "pygments_lexer": "ipython3",
   "version": "3.9.20"
  }
 },
 "nbformat": 4,
 "nbformat_minor": 5
}
