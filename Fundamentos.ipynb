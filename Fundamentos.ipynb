{
 "cells": [
  {
   "cell_type": "markdown",
   "id": "5c4077c6-9c00-43f8-8cc6-d2532387fb1b",
   "metadata": {},
   "source": [
    "# FUNDAMENTOS"
   ]
  },
  {
   "cell_type": "markdown",
   "id": "58f8ce5d-c36c-4f57-9395-a82c7b9df648",
   "metadata": {},
   "source": [
    "## 1. Conceptos básicos\n",
    "\n",
    "* **Dato:** Un dato es una representación simbólica (numérica, alfabética, etc.) que describe una característica o propiedad de un objeto.\n",
    "* **Variable:** Una variable es un espacio en la memoria de la computadora que se utiliza para almacenar datos. Es un nombre que se le da a un valor que puede cambiar durante la ejecución de un programa.\n",
    "* **Valor:** Un valor es el contenido o información almacenada en una variable, y puede ser de diferentes tipos (numérico, alfabético, booleano, etc.).\n",
    "* **Tipo de dato:** Un tipo de dato define el tipo de valor que una variable puede almacenar. "
   ]
  },
  {
   "cell_type": "markdown",
   "id": "ac0f8eb3-1afc-42c4-bc76-75484207b69c",
   "metadata": {},
   "source": [
    "## 2. Datos Simples"
   ]
  },
  {
   "cell_type": "markdown",
   "id": "32e3018a-4bdd-45dd-a597-27fe355d3432",
   "metadata": {},
   "source": [
    "* **Cadenas de texto** (str): Representan secuencias de caracteres, como “hola”, “Python”, etc."
   ]
  },
  {
   "cell_type": "code",
   "execution_count": 1,
   "id": "d60fae79-8ae0-4d42-8469-c41217a424a6",
   "metadata": {},
   "outputs": [
    {
     "data": {
      "text/plain": [
       "'String'"
      ]
     },
     "execution_count": 1,
     "metadata": {},
     "output_type": "execute_result"
    }
   ],
   "source": [
    "# En una sola linea\n",
    "\"String\"\n",
    "'String'"
   ]
  },
  {
   "cell_type": "code",
   "execution_count": 2,
   "id": "b547bb8f-0492-4de1-b046-84d3befb305a",
   "metadata": {},
   "outputs": [
    {
     "data": {
      "text/plain": [
       "' Tus datos son:\\n    Nombre: Ivan\\n    Apellido: Mora'"
      ]
     },
     "execution_count": 2,
     "metadata": {},
     "output_type": "execute_result"
    }
   ],
   "source": [
    "# En varias lineas\n",
    "\"\"\" Tus datos son:\n",
    "    Nombre: Ivan\n",
    "    Apellido: Mora\"\"\""
   ]
  },
  {
   "cell_type": "markdown",
   "id": "262212b2-607e-4711-9b9a-c72af405512c",
   "metadata": {},
   "source": [
    "* **Enteros** (int): Representan números enteros, como 1, 2, 3, etc."
   ]
  },
  {
   "cell_type": "code",
   "execution_count": 3,
   "id": "fb03b166-b83f-4a47-a020-9d9c79ba8ce9",
   "metadata": {},
   "outputs": [
    {
     "data": {
      "text/plain": [
       "40"
      ]
     },
     "execution_count": 3,
     "metadata": {},
     "output_type": "execute_result"
    }
   ],
   "source": [
    "40"
   ]
  },
  {
   "cell_type": "markdown",
   "id": "7dca5ad4-38c9-42f6-be10-b38c2d0d712a",
   "metadata": {},
   "source": [
    "* **Flotantes** (float): Representan números con decimales, como 1.5, 2.75, etc."
   ]
  },
  {
   "cell_type": "code",
   "execution_count": 4,
   "id": "32e8f2c2-71b6-444c-a53e-ed63ece4b2e4",
   "metadata": {},
   "outputs": [
    {
     "data": {
      "text/plain": [
       "30.5"
      ]
     },
     "execution_count": 4,
     "metadata": {},
     "output_type": "execute_result"
    }
   ],
   "source": [
    "30.5"
   ]
  },
  {
   "cell_type": "markdown",
   "id": "572a9ae9-5748-4331-8899-93214ed64ed1",
   "metadata": {},
   "source": [
    "* **Booleanos** (bool): Representan valores de verdadero o falso (True o False)."
   ]
  },
  {
   "cell_type": "code",
   "execution_count": 5,
   "id": "b56dee47-ff3e-416c-b5d5-a88ffa7d1f2f",
   "metadata": {},
   "outputs": [
    {
     "data": {
      "text/plain": [
       "False"
      ]
     },
     "execution_count": 5,
     "metadata": {},
     "output_type": "execute_result"
    }
   ],
   "source": [
    "True\n",
    "False"
   ]
  },
  {
   "cell_type": "markdown",
   "id": "eeaf935e-5d71-4156-aa53-a48fc26cbfca",
   "metadata": {},
   "source": [
    "## 3. Variables"
   ]
  },
  {
   "cell_type": "markdown",
   "id": "612928a7-367a-446c-9999-35fa5794f1a0",
   "metadata": {},
   "source": [
    "* Es una variable porque puede variar.\n",
    "* La variable se declara y se define."
   ]
  },
  {
   "cell_type": "code",
   "execution_count": 6,
   "id": "2d2d5045-b6a8-4322-b75e-d7ce3f4ba53a",
   "metadata": {},
   "outputs": [
    {
     "name": "stdout",
     "output_type": "stream",
     "text": [
      "27\n"
     ]
    }
   ],
   "source": [
    "a = 15\n",
    "b = 12\n",
    "c = a + b\n",
    "print(c)"
   ]
  },
  {
   "cell_type": "code",
   "execution_count": 7,
   "id": "1baf7da6-5d55-47dc-b966-67afe8b8e98c",
   "metadata": {},
   "outputs": [
    {
     "name": "stdout",
     "output_type": "stream",
     "text": [
      "Ivan\n"
     ]
    }
   ],
   "source": [
    "nombre = \"Ivan\"\n",
    "print(nombre)"
   ]
  },
  {
   "cell_type": "code",
   "execution_count": 8,
   "id": "5f7dbdeb-d606-44fe-90e0-4f2158829ce9",
   "metadata": {},
   "outputs": [
    {
     "name": "stdout",
     "output_type": "stream",
     "text": [
      "Mai\n"
     ]
    }
   ],
   "source": [
    "# Las variables son modificables\n",
    "nombre = \"Ivan\"\n",
    "nombre = \"Mai\"\n",
    "print(nombre)"
   ]
  },
  {
   "cell_type": "code",
   "execution_count": 9,
   "id": "73966660-4abf-4dd5-99ab-e554e8f0307f",
   "metadata": {},
   "outputs": [
    {
     "name": "stdout",
     "output_type": "stream",
     "text": [
      "True\n",
      "False\n"
     ]
    }
   ],
   "source": [
    "# Definir una variable\n",
    "nombre = \"Ivan\"\n",
    "bienvenida = \"Hola\"\n",
    "\n",
    "# Concatenar con f-string\n",
    "bienvenida = f\"Hola {nombre} ¿Como estas?\"\n",
    "\n",
    "\n",
    "# Operadores de pertenencia (in / not in)\n",
    "print(\"Ivan\" in bienvenida) # True\n",
    "\n",
    "print(\"Ivan\" not in bienvenida) # False"
   ]
  },
  {
   "cell_type": "markdown",
   "id": "1010964b-4450-4bf5-8410-f769bccc2644",
   "metadata": {},
   "source": [
    "## 4. Datos compuestos\n",
    "Los datos compuestos son datos que dentro tienen otros datos y se pueden agrupar"
   ]
  },
  {
   "cell_type": "markdown",
   "id": "4f9ebec8-2afd-4698-a380-f6362432df34",
   "metadata": {},
   "source": [
    "* **Listas** (list): Son colecciones ordenadas y mutables de elementos. Pueden contener elementos de diferentes tipos de datos. Se definen usando corchetes []. "
   ]
  },
  {
   "cell_type": "code",
   "execution_count": 10,
   "id": "bb52138a-570b-436a-83bf-c57d44aabf0c",
   "metadata": {},
   "outputs": [
    {
     "name": "stdout",
     "output_type": "stream",
     "text": [
      "['Iván Mora', 'Estudiante', True, 1.85]\n"
     ]
    }
   ],
   "source": [
    "lista = [\"Iván Mora\", \"Estudiante\", True, 1.85]\n",
    "print(lista)"
   ]
  },
  {
   "cell_type": "markdown",
   "id": "9ee5aa63-c577-4dc7-98c1-a6807f14e796",
   "metadata": {},
   "source": [
    "* **Tupla**: Es similar a una lista, pero es inmutable (no se puede modificar despues de su creación.)"
   ]
  },
  {
   "cell_type": "code",
   "execution_count": 11,
   "id": "c1208100-85ea-44e8-9b98-b6bf11e626d2",
   "metadata": {},
   "outputs": [
    {
     "name": "stdout",
     "output_type": "stream",
     "text": [
      "(10, 20)\n"
     ]
    }
   ],
   "source": [
    "coordenadas = (10, 20)\n",
    "print(coordenadas)"
   ]
  },
  {
   "cell_type": "markdown",
   "id": "be8da644-d00f-4175-8974-83489b717962",
   "metadata": {},
   "source": [
    "* **Conjunto**: Colección desordenada de elementos únicos."
   ]
  },
  {
   "cell_type": "code",
   "execution_count": 12,
   "id": "c5e3e463-f591-458a-acd7-1d9519f8eeb7",
   "metadata": {},
   "outputs": [
    {
     "name": "stdout",
     "output_type": "stream",
     "text": [
      "{1, 2, 3, 4, 5}\n",
      "{0, 1, 2, 3, 4, 5}\n"
     ]
    }
   ],
   "source": [
    "numeros = {1, 2, 3, 4, 5}\n",
    "print(numeros)\n",
    "\n",
    "#Agregar un elemento\n",
    "numeros.add(0)\n",
    "print(numeros)"
   ]
  },
  {
   "cell_type": "markdown",
   "id": "324318c6-afd7-4e8d-99e1-42670fa3d056",
   "metadata": {},
   "source": [
    "* **Diccionario**: Colección desordenada de pares clave-valor, donde cada clave es única."
   ]
  },
  {
   "cell_type": "code",
   "execution_count": 13,
   "id": "c587d96c-f660-4e2f-9eb0-c6c837bf2b92",
   "metadata": {},
   "outputs": [
    {
     "name": "stdout",
     "output_type": "stream",
     "text": [
      "{'nombre': 'Iván', 'edad': '21', 'Ciudad': 'Jilotepec'}\n",
      "Tu nombre es: Iván\n"
     ]
    }
   ],
   "source": [
    "persona = {\n",
    "    'nombre': 'Iván',\n",
    "    'edad': '21',\n",
    "    'Ciudad': 'Jilotepec'\n",
    "}\n",
    "\n",
    "print(persona)\n",
    "\n",
    "print('Tu nombre es: '+ persona[\"nombre\"])"
   ]
  },
  {
   "cell_type": "markdown",
   "id": "b15240bc-95b1-4a8b-b49f-93344f07c6e4",
   "metadata": {},
   "source": [
    "## 5. Operadores aritméticos\n",
    "\n",
    "Permiten realizar operaciones matemáticas comunes entre valores númericos."
   ]
  },
  {
   "cell_type": "markdown",
   "id": "e1c70b87-661a-459f-9351-f3e6059b46db",
   "metadata": {},
   "source": [
    "* **Suma y Resta**"
   ]
  },
  {
   "cell_type": "code",
   "execution_count": 14,
   "id": "a2006900-1914-4033-86dc-f7c9bc31d2f7",
   "metadata": {},
   "outputs": [
    {
     "name": "stdout",
     "output_type": "stream",
     "text": [
      "La suma de  5 + 3 = 8\n",
      "La resta de  5 - 3 = 2\n"
     ]
    }
   ],
   "source": [
    "a = 5\n",
    "b = 3\n",
    "\n",
    "suma = a + b \n",
    "resta = a - b\n",
    "\n",
    "print('La suma de ', +a, '+', +b, '=', +suma)\n",
    "print('La resta de ', +a, '-', +b, '=', +resta)"
   ]
  },
  {
   "cell_type": "markdown",
   "id": "1810aac6-92a7-41b9-9e3d-1f463217afd6",
   "metadata": {},
   "source": [
    "* **Multiplicación y división**"
   ]
  },
  {
   "cell_type": "code",
   "execution_count": 15,
   "id": "b97af0d5-e9cd-47c9-acdc-b0b25b76f6ab",
   "metadata": {},
   "outputs": [
    {
     "name": "stdout",
     "output_type": "stream",
     "text": [
      "La Multiplicación de  15 * 2 = 30\n",
      "La División de  15 / 2 = 7.5\n",
      "La división entera de 15 // 2 = 7\n"
     ]
    }
   ],
   "source": [
    "a = 15\n",
    "b = 2\n",
    "\n",
    "multi = a * b \n",
    "division = a / b\n",
    "division_entera = a // b\n",
    "\n",
    "print('La Multiplicación de ', +a, '*', +b, '=', +multi)\n",
    "print('La División de ', +a, '/', +b, '=', +division)\n",
    "print('La división entera de', +a, '//', +b, '=', +division_entera) "
   ]
  },
  {
   "cell_type": "markdown",
   "id": "547f1127-c827-4520-a59c-2e2f81ab1a22",
   "metadata": {},
   "source": [
    "* **Exponenciación**"
   ]
  },
  {
   "cell_type": "code",
   "execution_count": 16,
   "id": "187ef202-5415-49ce-96c6-7f3f697982eb",
   "metadata": {},
   "outputs": [
    {
     "name": "stdout",
     "output_type": "stream",
     "text": [
      "12**5 =  248832\n"
     ]
    }
   ],
   "source": [
    "exponente = 12**5\n",
    "\n",
    "print('12**5 = ', +exponente)"
   ]
  },
  {
   "cell_type": "markdown",
   "id": "b683c22a-ac18-4d0c-bb6f-9d4913213f02",
   "metadata": {},
   "source": [
    "* **Resto o módulo**: "
   ]
  },
  {
   "cell_type": "code",
   "execution_count": 17,
   "id": "434bee18-521d-4ba9-95da-323b82ff325c",
   "metadata": {},
   "outputs": [
    {
     "name": "stdout",
     "output_type": "stream",
     "text": [
      "1\n"
     ]
    }
   ],
   "source": [
    "a = 15\n",
    "b = 2\n",
    "\n",
    "modulo = a % b \n",
    "print(modulo)"
   ]
  },
  {
   "cell_type": "markdown",
   "id": "f44fd543-9fd5-4721-84d4-8e80b75fcd01",
   "metadata": {},
   "source": [
    "## 6. Operadores de Comparación\n",
    "\n",
    "Permiten comparar valores y expresiones devolviendo un resultado booleano (**True** o **False**). Útiles en condicionales y estructuras de control."
   ]
  },
  {
   "cell_type": "markdown",
   "id": "8af94aaf-5be1-4228-a179-7b24a972cc1f",
   "metadata": {},
   "source": [
    "* **Igual a (==)**\n",
    "\n",
    "Verifica si dos valores son iguales."
   ]
  },
  {
   "cell_type": "code",
   "execution_count": 18,
   "id": "2d63255a-2ef3-4a97-8875-960676848543",
   "metadata": {},
   "outputs": [
    {
     "name": "stdout",
     "output_type": "stream",
     "text": [
      "False\n"
     ]
    }
   ],
   "source": [
    "a = 5\n",
    "b = 3\n",
    "\n",
    "print(a == b) # Salida: False"
   ]
  },
  {
   "cell_type": "markdown",
   "id": "23d31580-235f-4425-8703-d27a9ff27f27",
   "metadata": {},
   "source": [
    "* **Distinto de (!=)**\n",
    "  \n",
    "Verifica si dos valores son diferentes"
   ]
  },
  {
   "cell_type": "code",
   "execution_count": 19,
   "id": "1f667d72-35cb-45c8-a116-e6cf6b01187a",
   "metadata": {},
   "outputs": [
    {
     "name": "stdout",
     "output_type": "stream",
     "text": [
      "True\n"
     ]
    }
   ],
   "source": [
    "#Salida: True\n",
    "print(a != b) "
   ]
  },
  {
   "cell_type": "markdown",
   "id": "1bc113c3-019e-45d4-8ca9-30b08fe31c0f",
   "metadata": {},
   "source": [
    "* **Mayor que (>)**\n",
    "\n",
    "Verifica si el primer valor es mayor que el segundo."
   ]
  },
  {
   "cell_type": "code",
   "execution_count": 20,
   "id": "efa030f9-ac51-4f22-8385-79065b5d4207",
   "metadata": {},
   "outputs": [
    {
     "name": "stdout",
     "output_type": "stream",
     "text": [
      "True\n"
     ]
    }
   ],
   "source": [
    "# Salida: True\n",
    "print(a > b)"
   ]
  },
  {
   "cell_type": "markdown",
   "id": "071a55cc-5f81-4c77-8934-cf2e5b658517",
   "metadata": {},
   "source": [
    "* **Menor que (<)**\n",
    "\n",
    "Verifica si el primer valor es menor que el segundo."
   ]
  },
  {
   "cell_type": "code",
   "execution_count": 21,
   "id": "61052900-cd73-4d53-8045-eb6a630c2e73",
   "metadata": {},
   "outputs": [
    {
     "name": "stdout",
     "output_type": "stream",
     "text": [
      "False\n"
     ]
    }
   ],
   "source": [
    "# Salida: False\n",
    "print(a < b)"
   ]
  },
  {
   "cell_type": "markdown",
   "id": "bc93c706-b356-4a5f-9e30-831127240e4a",
   "metadata": {},
   "source": [
    "* **Mayor o igual que (>=)**\n",
    "\n",
    "Verifica si el primer valor es mayor o igual al segundo."
   ]
  },
  {
   "cell_type": "code",
   "execution_count": 22,
   "id": "94564861-6c74-4054-829a-9bbba1d8bab6",
   "metadata": {},
   "outputs": [
    {
     "name": "stdout",
     "output_type": "stream",
     "text": [
      "True\n"
     ]
    }
   ],
   "source": [
    "#Salida: True\n",
    "print(a >=b )"
   ]
  },
  {
   "cell_type": "markdown",
   "id": "5f7cb431-8cb7-4387-8128-77744c95d98c",
   "metadata": {},
   "source": [
    "* **Menor o igual que (<=)**\n",
    "\n",
    "Verifica si el primer valor es menor o igual al segundo."
   ]
  },
  {
   "cell_type": "code",
   "execution_count": 23,
   "id": "975f0826-b2bd-4f7a-9858-0ac767c74a13",
   "metadata": {},
   "outputs": [
    {
     "name": "stdout",
     "output_type": "stream",
     "text": [
      "False\n"
     ]
    }
   ],
   "source": [
    "#Salida: False\n",
    "print(a<=b)"
   ]
  },
  {
   "cell_type": "markdown",
   "id": "3baf1367-62bb-4dc7-a8b4-653def71ca6d",
   "metadata": {},
   "source": [
    "## 7. Condicionales\n",
    "\n",
    "Las estructuras condicionales permiten ejecutar bloques de código dependiendo de si una condición es **True** o **False**. Las estructuras más comunes son if, elif, else."
   ]
  },
  {
   "cell_type": "markdown",
   "id": "b4ef7d96-2dfa-41a5-833d-b0eb876976d8",
   "metadata": {},
   "source": [
    "1. **Condicional IF**\n",
    "   \n",
    "Ejecuta el bloque de código si la condición es True(Verdadera). "
   ]
  },
  {
   "cell_type": "code",
   "execution_count": 24,
   "id": "1f915d51-b195-4a7e-b129-f3bbfc91e027",
   "metadata": {},
   "outputs": [
    {
     "name": "stdout",
     "output_type": "stream",
     "text": [
      "Es mayor de edad\n"
     ]
    }
   ],
   "source": [
    "edad = 21\n",
    "\n",
    "if edad >= 18:\n",
    "    print(\"Es mayor de edad\")"
   ]
  },
  {
   "cell_type": "markdown",
   "id": "0672ca7f-7b54-44c4-96ee-627ccf8c111e",
   "metadata": {},
   "source": [
    "2. **Condicional IF...else**\n",
    "\n",
    "Si la condición en if es False, ejecuta el bloque de código en else."
   ]
  },
  {
   "cell_type": "code",
   "execution_count": 25,
   "id": "1d98371f-7b93-40db-aeb2-7cab978caf46",
   "metadata": {},
   "outputs": [
    {
     "name": "stdout",
     "output_type": "stream",
     "text": [
      "Es menor de edad\n"
     ]
    }
   ],
   "source": [
    "edad = 16\n",
    "if edad >= 18:\n",
    "    print(\"Es mayor de edad\")\n",
    "else:\n",
    "    print(\"Es menor de edad\")"
   ]
  },
  {
   "cell_type": "markdown",
   "id": "b8b1b062-82c6-4a07-8186-359d1645c4df",
   "metadata": {},
   "source": [
    "3. **Condicional if...elif...else**\n",
    "\n",
    "Permite evaluar multiples condicionales. Si ninguna de las condiciones se cumple es True, se ejecuta el bloque en else."
   ]
  },
  {
   "cell_type": "code",
   "execution_count": 26,
   "id": "842cd46b-8296-4843-b46a-a9258116c4ca",
   "metadata": {},
   "outputs": [
    {
     "name": "stdout",
     "output_type": "stream",
     "text": [
      "Reprobado\n"
     ]
    }
   ],
   "source": [
    "nota = 69\n",
    "\n",
    "if nota >= 90:\n",
    "    print(\"Excelente\")\n",
    "elif nota >= 70:\n",
    "    print(\"Aprobado\")\n",
    "else:\n",
    "    print(\"Reprobado\")"
   ]
  },
  {
   "cell_type": "markdown",
   "id": "2d08899d-265b-46b5-8fd6-22a4992e600d",
   "metadata": {},
   "source": [
    "4. **Condicionales Anidados**\n",
    "\n",
    "Puedes anidar condicionales dentro de otros para evaluar condiciones más complejas."
   ]
  },
  {
   "cell_type": "code",
   "execution_count": 27,
   "id": "831cd082-0f7e-4051-8ade-4f77fe4bebe2",
   "metadata": {},
   "outputs": [
    {
     "name": "stdout",
     "output_type": "stream",
     "text": [
      "Necesita licencia para conducir\n"
     ]
    }
   ],
   "source": [
    "edad = 20\n",
    "licencia = False\n",
    "\n",
    "if edad >= 18:\n",
    "    if licencia:\n",
    "        print(\"Puede conducir\")\n",
    "    else:\n",
    "        print(\"Necesita licencia para conducir\")\n",
    "else:\n",
    "    print(\"Es menor de edad y no puede conducir\")"
   ]
  },
  {
   "cell_type": "markdown",
   "id": "fcb73250-c118-4607-9bec-c481888b134f",
   "metadata": {},
   "source": [
    "5. **IF ternario**\n",
    "\n",
    "Se usa para simplicar asignaciones condicionales."
   ]
  },
  {
   "cell_type": "code",
   "execution_count": 28,
   "id": "ab7a3da1-28ab-4fa5-a1a9-34458769750e",
   "metadata": {},
   "outputs": [
    {
     "name": "stdout",
     "output_type": "stream",
     "text": [
      "Mayor de edad\n"
     ]
    }
   ],
   "source": [
    "edad = 18\n",
    "mensaje = \"Mayor de edad\" if edad >= 18 else \"Menor de edad\"\n",
    "print(mensaje)"
   ]
  },
  {
   "cell_type": "markdown",
   "id": "ebcf2b04-6c2e-46e1-8c4f-ad1f768ec74b",
   "metadata": {},
   "source": [
    "## 8, Operadores lógicos\n",
    "\n",
    "Permiten combinar múltiples condicionales, devolviendo un resultado booleano (True o False). Los operadores lógicos principales son and, or, not.\n"
   ]
  },
  {
   "cell_type": "markdown",
   "id": "71e788cb-02ec-4162-8a0e-bab9bcb03abe",
   "metadata": {},
   "source": [
    "1. **AND**\n",
    "\n",
    "Devuelve True solo si todas las condiciones son True."
   ]
  },
  {
   "cell_type": "code",
   "execution_count": 29,
   "id": "cd8183aa-29b4-4b95-b934-6a9c33dc203d",
   "metadata": {},
   "outputs": [
    {
     "name": "stdout",
     "output_type": "stream",
     "text": [
      "True\n",
      "False\n"
     ]
    }
   ],
   "source": [
    "a = 5\n",
    "b = 10\n",
    "c = 15\n",
    "\n",
    "# Ambas condiciones deben ser verdaderas\n",
    "print(a < b and b < c)\n",
    "print(a > b and b < c)"
   ]
  },
  {
   "cell_type": "markdown",
   "id": "364df354-91e9-45ab-97d7-72da04725839",
   "metadata": {},
   "source": [
    "2. **OR**\n",
    "\n",
    "Devuelve True si al menos una de las dos condiciones es True."
   ]
  },
  {
   "cell_type": "code",
   "execution_count": 30,
   "id": "5026f10f-336c-4c9d-a70a-708570737909",
   "metadata": {},
   "outputs": [
    {
     "name": "stdout",
     "output_type": "stream",
     "text": [
      "True\n",
      "False\n"
     ]
    }
   ],
   "source": [
    "# Solo una de las condiciones debe ser verdadera.\n",
    "print(a < b or b > c)\n",
    "print(a > b or b > c)"
   ]
  },
  {
   "cell_type": "markdown",
   "id": "5c0ce719-04a0-4846-8c19-9b06ccc13955",
   "metadata": {},
   "source": [
    "3. **NOT**\n",
    "\n",
    "Invierte el valor de la condición: True se convierte en False, y False se convierte en True."
   ]
  },
  {
   "cell_type": "code",
   "execution_count": 31,
   "id": "110bff51-458e-484a-9957-b61fda997630",
   "metadata": {},
   "outputs": [
    {
     "name": "stdout",
     "output_type": "stream",
     "text": [
      "False\n"
     ]
    }
   ],
   "source": [
    "es_adulto = True\n",
    "\n",
    "# Invierte el valor\n",
    "print(not es_adulto)"
   ]
  },
  {
   "cell_type": "code",
   "execution_count": null,
   "id": "32851d69-8bb1-4d22-9895-93b876dbc487",
   "metadata": {},
   "outputs": [],
   "source": []
  }
 ],
 "metadata": {
  "kernelspec": {
   "display_name": "Python 3 (ipykernel)",
   "language": "python",
   "name": "python3"
  },
  "language_info": {
   "codemirror_mode": {
    "name": "ipython",
    "version": 3
   },
   "file_extension": ".py",
   "mimetype": "text/x-python",
   "name": "python",
   "nbconvert_exporter": "python",
   "pygments_lexer": "ipython3",
   "version": "3.9.20"
  }
 },
 "nbformat": 4,
 "nbformat_minor": 5
}
