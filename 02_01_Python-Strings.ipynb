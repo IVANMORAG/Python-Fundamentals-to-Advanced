{
 "cells": [
  {
   "cell_type": "markdown",
   "id": "24b9ed2d-25e3-48c2-96b9-0ec029e716d6",
   "metadata": {},
   "source": [
    "# PYTHON STRINGS"
   ]
  },
  {
   "cell_type": "markdown",
   "id": "5fc3e58f-8b3c-4d39-9133-feadbb472138",
   "metadata": {},
   "source": [
    "## 1. SLICING EN PYTHON\n",
    "\n",
    "El Slicing (rebanando) en Python es una técnica poderosa que permite extraer subconjuntos de strings."
   ]
  },
  {
   "cell_type": "markdown",
   "id": "4d0fdb29-6a9e-44c7-b1d2-605ee57f518d",
   "metadata": {},
   "source": [
    "### **Conceptos básicos del slicing:**\n",
    "\n",
    "En Python, los strings son secuencias de caracteres. Cada carácter tiene una posición o índice, comenzando desde 0 para el primer carácter.\n",
    "\n",
    "La sintaxis básica del slicing es:\n",
    "\n",
    "**string[inicio:fin:paso]**"
   ]
  },
  {
   "cell_type": "markdown",
   "id": "719cc149-6469-4c1b-b270-b61d020b4d9f",
   "metadata": {},
   "source": [
    "### **a) Slicing básico:**"
   ]
  },
  {
   "cell_type": "code",
   "execution_count": 6,
   "id": "c36bb828-ac0a-4abb-93ef-49c24c3623a3",
   "metadata": {},
   "outputs": [
    {
     "name": "stdout",
     "output_type": "stream",
     "text": [
      "--- Extrayendo subcadenas ---\n",
      "Python\n",
      "Maravilloso\n",
      "\n",
      "--- Formas abreviadas ---\n",
      "Python\n",
      "Maravilloso\n",
      "Python es Maravilloso\n"
     ]
    }
   ],
   "source": [
    "frase = \"Python es Maravilloso\"\n",
    "\n",
    "print(\"--- Extrayendo subcadenas ---\")\n",
    "print(frase[0:6])  # \"Python\"\n",
    "print(frase[10:21]) # \"maravilloso\"\n",
    "\n",
    "print(\"\\n--- Formas abreviadas ---\")\n",
    "print(frase[:6]) # \"Python (desde el inicio)\"\n",
    "print(frase[10:]) # \"maravilloso\" (hasta el final)\n",
    "print(frase[:]) # Copia completa"
   ]
  },
  {
   "cell_type": "markdown",
   "id": "9c8cdd3c-b94f-40a4-9f25-a1eadfe2f971",
   "metadata": {},
   "source": [
    "### **b) Usando índices negativos:**\n",
    "\n",
    "Los índices negativos cuentan desde el final del string:"
   ]
  },
  {
   "cell_type": "code",
   "execution_count": 9,
   "id": "a6119899-b85e-43c0-8b79-a59e81cc4a0e",
   "metadata": {},
   "outputs": [
    {
     "name": "stdout",
     "output_type": "stream",
     "text": [
      "acion\n",
      "ogram\n"
     ]
    }
   ],
   "source": [
    "palabra = \"programacion\"\n",
    "\n",
    "# \"acion\" (ultimos 5 caracteres)\n",
    "print(palabra[-5:])\n",
    "\n",
    "# rogra (del décimo al quinto desde el final)\n",
    "print(palabra[-10:-5])"
   ]
  },
  {
   "cell_type": "markdown",
   "id": "473b2cc5-0015-4d6f-99e9-f45225a7d7d1",
   "metadata": {},
   "source": [
    "### **c) Paso(step):**\n",
    "\n",
    "El parámetro ***paso*** permite saltar carácteres:"
   ]
  },
  {
   "cell_type": "code",
   "execution_count": 13,
   "id": "43128438-5c54-4128-b85c-e934a5dd039f",
   "metadata": {},
   "outputs": [
    {
     "name": "stdout",
     "output_type": "stream",
     "text": [
      "acegikmoqsuwy\n",
      "behkn\n"
     ]
    }
   ],
   "source": [
    "texto = \"abcdefghijklmnopqrstuvwxyz\"\n",
    "\n",
    "# Carácteres alternos\n",
    "print(texto[::2])\n",
    "\n",
    "# Desde el índice 1 al 14, saltando 3\n",
    "print(texto[1:14:3])"
   ]
  },
  {
   "cell_type": "markdown",
   "id": "cefeda3f-8243-4e67-bee6-71a85c62adf5",
   "metadata": {},
   "source": [
    "### **d) Invirtiendo Strings:**"
   ]
  },
  {
   "cell_type": "code",
   "execution_count": 14,
   "id": "aae97c74-bc0c-47a8-9a75-2bc4990ec950",
   "metadata": {},
   "outputs": [
    {
     "name": "stdout",
     "output_type": "stream",
     "text": [
      "nohtyP\n"
     ]
    }
   ],
   "source": [
    "palabra = \"Python\"\n",
    "\n",
    "print(palabra[::-1])"
   ]
  },
  {
   "cell_type": "code",
   "execution_count": null,
   "id": "43846de0-377f-4a18-85f8-a4dc5a1368a2",
   "metadata": {},
   "outputs": [],
   "source": []
  }
 ],
 "metadata": {
  "kernelspec": {
   "display_name": "Python 3 (ipykernel)",
   "language": "python",
   "name": "python3"
  },
  "language_info": {
   "codemirror_mode": {
    "name": "ipython",
    "version": 3
   },
   "file_extension": ".py",
   "mimetype": "text/x-python",
   "name": "python",
   "nbconvert_exporter": "python",
   "pygments_lexer": "ipython3",
   "version": "3.9.21"
  }
 },
 "nbformat": 4,
 "nbformat_minor": 5
}
